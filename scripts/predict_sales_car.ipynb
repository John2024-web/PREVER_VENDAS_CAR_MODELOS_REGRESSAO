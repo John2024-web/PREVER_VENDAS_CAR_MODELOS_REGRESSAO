{
  "cells": [
    {
      "cell_type": "markdown",
      "metadata": {
        "id": "XemDdpkQ-DSf"
      },
      "source": [
        "# 1.0 Import\n"
      ]
    },
    {
      "cell_type": "code",
      "execution_count": 1,
      "metadata": {
        "id": "lsPkInxL3QY-"
      },
      "outputs": [],
      "source": [
        "import pandas as pd\n",
        "import numpy as np\n",
        "import matplotlib.pyplot as plt\n",
        "import seaborn as sns\n",
        "import warnings\n",
        "warnings.filterwarnings('ignore')"
      ]
    },
    {
      "cell_type": "code",
      "execution_count": 2,
      "metadata": {
        "id": "rP_HHls342zM"
      },
      "outputs": [],
      "source": [
        "!pip install -U -q PyDrive \n",
        "  \n",
        "from pydrive.auth import GoogleAuth \n",
        "from pydrive.drive import GoogleDrive \n",
        "from google.colab import auth \n",
        "from oauth2client.client import GoogleCredentials \n",
        "  \n",
        "auth.authenticate_user() \n",
        "gauth = GoogleAuth() \n",
        "gauth.credentials = GoogleCredentials.get_application_default() \n",
        "drive = GoogleDrive(gauth)"
      ]
    },
    {
      "cell_type": "markdown",
      "metadata": {
        "id": "xJcfhlVM4rpo"
      },
      "source": [
        "# 2.0 Extraindo os dados"
      ]
    },
    {
      "cell_type": "code",
      "execution_count": 3,
      "metadata": {
        "id": "f6m0maEQ426b"
      },
      "outputs": [],
      "source": [
        "link = 'https://drive.google.com/file/d/1VP4_LoNVsT52XcVviBiVezFguRQpCPjZ/view?usp=share_link'\n",
        "\n",
        "import pandas as pd \n",
        "id = link.split(\"/\")[-2] \n",
        "  \n",
        "downloaded = drive.CreateFile({'id':id})  \n",
        "downloaded.GetContentFile('dados_teste.csv')   \n",
        "  \n",
        "df = pd.read_csv('dados_teste.csv') "
      ]
    },
    {
      "cell_type": "code",
      "execution_count": 4,
      "metadata": {
        "colab": {
          "base_uri": "https://localhost:8080/",
          "height": 270
        },
        "id": "S6eboBNJpS6D",
        "outputId": "a00c3dd6-2466-4858-891e-7af529310ebc"
      },
      "outputs": [
        {
          "data": {
            "text/html": [
              "\n",
              "  <div id=\"df-5c17993a-8209-45f9-8a1a-09d83e79383b\">\n",
              "    <div class=\"colab-df-container\">\n",
              "      <div>\n",
              "<style scoped>\n",
              "    .dataframe tbody tr th:only-of-type {\n",
              "        vertical-align: middle;\n",
              "    }\n",
              "\n",
              "    .dataframe tbody tr th {\n",
              "        vertical-align: top;\n",
              "    }\n",
              "\n",
              "    .dataframe thead th {\n",
              "        text-align: right;\n",
              "    }\n",
              "</style>\n",
              "<table border=\"1\" class=\"dataframe\">\n",
              "  <thead>\n",
              "    <tr style=\"text-align: right;\">\n",
              "      <th></th>\n",
              "      <th>Manufacturer</th>\n",
              "      <th>Model</th>\n",
              "      <th>Sales_in_thousands</th>\n",
              "      <th>__year_resale_value</th>\n",
              "      <th>Vehicle_type</th>\n",
              "      <th>Price_in_thousands</th>\n",
              "      <th>Engine_size</th>\n",
              "      <th>Horsepower</th>\n",
              "      <th>Wheelbase</th>\n",
              "      <th>Width</th>\n",
              "      <th>Length</th>\n",
              "      <th>Curb_weight</th>\n",
              "      <th>Fuel_capacity</th>\n",
              "      <th>Fuel_efficiency</th>\n",
              "      <th>Latest_Launch</th>\n",
              "      <th>Power_perf_factor</th>\n",
              "    </tr>\n",
              "  </thead>\n",
              "  <tbody>\n",
              "    <tr>\n",
              "      <th>0</th>\n",
              "      <td>Acura</td>\n",
              "      <td>Integra</td>\n",
              "      <td>16.919</td>\n",
              "      <td>16.360</td>\n",
              "      <td>Passenger</td>\n",
              "      <td>21.50</td>\n",
              "      <td>1.8</td>\n",
              "      <td>140.0</td>\n",
              "      <td>101.2</td>\n",
              "      <td>67.3</td>\n",
              "      <td>172.4</td>\n",
              "      <td>2.639</td>\n",
              "      <td>13.2</td>\n",
              "      <td>28.0</td>\n",
              "      <td>2/2/2012</td>\n",
              "      <td>58.280150</td>\n",
              "    </tr>\n",
              "    <tr>\n",
              "      <th>1</th>\n",
              "      <td>Acura</td>\n",
              "      <td>TL</td>\n",
              "      <td>39.384</td>\n",
              "      <td>19.875</td>\n",
              "      <td>Passenger</td>\n",
              "      <td>28.40</td>\n",
              "      <td>3.2</td>\n",
              "      <td>225.0</td>\n",
              "      <td>108.1</td>\n",
              "      <td>70.3</td>\n",
              "      <td>192.9</td>\n",
              "      <td>3.517</td>\n",
              "      <td>17.2</td>\n",
              "      <td>25.0</td>\n",
              "      <td>6/3/2011</td>\n",
              "      <td>91.370778</td>\n",
              "    </tr>\n",
              "    <tr>\n",
              "      <th>2</th>\n",
              "      <td>Acura</td>\n",
              "      <td>CL</td>\n",
              "      <td>14.114</td>\n",
              "      <td>18.225</td>\n",
              "      <td>Passenger</td>\n",
              "      <td>NaN</td>\n",
              "      <td>3.2</td>\n",
              "      <td>225.0</td>\n",
              "      <td>106.9</td>\n",
              "      <td>70.6</td>\n",
              "      <td>192.0</td>\n",
              "      <td>3.470</td>\n",
              "      <td>17.2</td>\n",
              "      <td>26.0</td>\n",
              "      <td>1/4/2012</td>\n",
              "      <td>NaN</td>\n",
              "    </tr>\n",
              "    <tr>\n",
              "      <th>3</th>\n",
              "      <td>Acura</td>\n",
              "      <td>RL</td>\n",
              "      <td>8.588</td>\n",
              "      <td>29.725</td>\n",
              "      <td>Passenger</td>\n",
              "      <td>42.00</td>\n",
              "      <td>3.5</td>\n",
              "      <td>210.0</td>\n",
              "      <td>114.6</td>\n",
              "      <td>71.4</td>\n",
              "      <td>196.6</td>\n",
              "      <td>3.850</td>\n",
              "      <td>18.0</td>\n",
              "      <td>22.0</td>\n",
              "      <td>3/10/2011</td>\n",
              "      <td>91.389779</td>\n",
              "    </tr>\n",
              "    <tr>\n",
              "      <th>4</th>\n",
              "      <td>Audi</td>\n",
              "      <td>A4</td>\n",
              "      <td>20.397</td>\n",
              "      <td>22.255</td>\n",
              "      <td>Passenger</td>\n",
              "      <td>23.99</td>\n",
              "      <td>1.8</td>\n",
              "      <td>150.0</td>\n",
              "      <td>102.6</td>\n",
              "      <td>68.2</td>\n",
              "      <td>178.0</td>\n",
              "      <td>2.998</td>\n",
              "      <td>16.4</td>\n",
              "      <td>27.0</td>\n",
              "      <td>10/8/2011</td>\n",
              "      <td>62.777639</td>\n",
              "    </tr>\n",
              "  </tbody>\n",
              "</table>\n",
              "</div>\n",
              "      <button class=\"colab-df-convert\" onclick=\"convertToInteractive('df-5c17993a-8209-45f9-8a1a-09d83e79383b')\"\n",
              "              title=\"Convert this dataframe to an interactive table.\"\n",
              "              style=\"display:none;\">\n",
              "        \n",
              "  <svg xmlns=\"http://www.w3.org/2000/svg\" height=\"24px\"viewBox=\"0 0 24 24\"\n",
              "       width=\"24px\">\n",
              "    <path d=\"M0 0h24v24H0V0z\" fill=\"none\"/>\n",
              "    <path d=\"M18.56 5.44l.94 2.06.94-2.06 2.06-.94-2.06-.94-.94-2.06-.94 2.06-2.06.94zm-11 1L8.5 8.5l.94-2.06 2.06-.94-2.06-.94L8.5 2.5l-.94 2.06-2.06.94zm10 10l.94 2.06.94-2.06 2.06-.94-2.06-.94-.94-2.06-.94 2.06-2.06.94z\"/><path d=\"M17.41 7.96l-1.37-1.37c-.4-.4-.92-.59-1.43-.59-.52 0-1.04.2-1.43.59L10.3 9.45l-7.72 7.72c-.78.78-.78 2.05 0 2.83L4 21.41c.39.39.9.59 1.41.59.51 0 1.02-.2 1.41-.59l7.78-7.78 2.81-2.81c.8-.78.8-2.07 0-2.86zM5.41 20L4 18.59l7.72-7.72 1.47 1.35L5.41 20z\"/>\n",
              "  </svg>\n",
              "      </button>\n",
              "      \n",
              "  <style>\n",
              "    .colab-df-container {\n",
              "      display:flex;\n",
              "      flex-wrap:wrap;\n",
              "      gap: 12px;\n",
              "    }\n",
              "\n",
              "    .colab-df-convert {\n",
              "      background-color: #E8F0FE;\n",
              "      border: none;\n",
              "      border-radius: 50%;\n",
              "      cursor: pointer;\n",
              "      display: none;\n",
              "      fill: #1967D2;\n",
              "      height: 32px;\n",
              "      padding: 0 0 0 0;\n",
              "      width: 32px;\n",
              "    }\n",
              "\n",
              "    .colab-df-convert:hover {\n",
              "      background-color: #E2EBFA;\n",
              "      box-shadow: 0px 1px 2px rgba(60, 64, 67, 0.3), 0px 1px 3px 1px rgba(60, 64, 67, 0.15);\n",
              "      fill: #174EA6;\n",
              "    }\n",
              "\n",
              "    [theme=dark] .colab-df-convert {\n",
              "      background-color: #3B4455;\n",
              "      fill: #D2E3FC;\n",
              "    }\n",
              "\n",
              "    [theme=dark] .colab-df-convert:hover {\n",
              "      background-color: #434B5C;\n",
              "      box-shadow: 0px 1px 3px 1px rgba(0, 0, 0, 0.15);\n",
              "      filter: drop-shadow(0px 1px 2px rgba(0, 0, 0, 0.3));\n",
              "      fill: #FFFFFF;\n",
              "    }\n",
              "  </style>\n",
              "\n",
              "      <script>\n",
              "        const buttonEl =\n",
              "          document.querySelector('#df-5c17993a-8209-45f9-8a1a-09d83e79383b button.colab-df-convert');\n",
              "        buttonEl.style.display =\n",
              "          google.colab.kernel.accessAllowed ? 'block' : 'none';\n",
              "\n",
              "        async function convertToInteractive(key) {\n",
              "          const element = document.querySelector('#df-5c17993a-8209-45f9-8a1a-09d83e79383b');\n",
              "          const dataTable =\n",
              "            await google.colab.kernel.invokeFunction('convertToInteractive',\n",
              "                                                     [key], {});\n",
              "          if (!dataTable) return;\n",
              "\n",
              "          const docLinkHtml = 'Like what you see? Visit the ' +\n",
              "            '<a target=\"_blank\" href=https://colab.research.google.com/notebooks/data_table.ipynb>data table notebook</a>'\n",
              "            + ' to learn more about interactive tables.';\n",
              "          element.innerHTML = '';\n",
              "          dataTable['output_type'] = 'display_data';\n",
              "          await google.colab.output.renderOutput(dataTable, element);\n",
              "          const docLink = document.createElement('div');\n",
              "          docLink.innerHTML = docLinkHtml;\n",
              "          element.appendChild(docLink);\n",
              "        }\n",
              "      </script>\n",
              "    </div>\n",
              "  </div>\n",
              "  "
            ],
            "text/plain": [
              "  Manufacturer    Model  Sales_in_thousands  __year_resale_value Vehicle_type  \\\n",
              "0        Acura  Integra              16.919               16.360    Passenger   \n",
              "1        Acura       TL              39.384               19.875    Passenger   \n",
              "2        Acura       CL              14.114               18.225    Passenger   \n",
              "3        Acura       RL               8.588               29.725    Passenger   \n",
              "4         Audi       A4              20.397               22.255    Passenger   \n",
              "\n",
              "   Price_in_thousands  Engine_size  Horsepower  Wheelbase  Width  Length  \\\n",
              "0               21.50          1.8       140.0      101.2   67.3   172.4   \n",
              "1               28.40          3.2       225.0      108.1   70.3   192.9   \n",
              "2                 NaN          3.2       225.0      106.9   70.6   192.0   \n",
              "3               42.00          3.5       210.0      114.6   71.4   196.6   \n",
              "4               23.99          1.8       150.0      102.6   68.2   178.0   \n",
              "\n",
              "   Curb_weight  Fuel_capacity  Fuel_efficiency Latest_Launch  \\\n",
              "0        2.639           13.2             28.0      2/2/2012   \n",
              "1        3.517           17.2             25.0      6/3/2011   \n",
              "2        3.470           17.2             26.0      1/4/2012   \n",
              "3        3.850           18.0             22.0     3/10/2011   \n",
              "4        2.998           16.4             27.0     10/8/2011   \n",
              "\n",
              "   Power_perf_factor  \n",
              "0          58.280150  \n",
              "1          91.370778  \n",
              "2                NaN  \n",
              "3          91.389779  \n",
              "4          62.777639  "
            ]
          },
          "execution_count": 4,
          "metadata": {},
          "output_type": "execute_result"
        }
      ],
      "source": [
        "df.head()"
      ]
    },
    {
      "cell_type": "markdown",
      "metadata": {
        "id": "NDqDdF5P4wSt"
      },
      "source": [
        "#### 2.1 Informação sobre os dados"
      ]
    },
    {
      "cell_type": "code",
      "execution_count": 5,
      "metadata": {
        "colab": {
          "base_uri": "https://localhost:8080/"
        },
        "id": "MHE4mvd2MoCk",
        "outputId": "51200f3a-ebe9-4342-e45b-181e6e537223"
      },
      "outputs": [
        {
          "name": "stdout",
          "output_type": "stream",
          "text": [
            "<class 'pandas.core.frame.DataFrame'>\n",
            "RangeIndex: 157 entries, 0 to 156\n",
            "Data columns (total 16 columns):\n",
            " #   Column               Non-Null Count  Dtype  \n",
            "---  ------               --------------  -----  \n",
            " 0   Manufacturer         157 non-null    object \n",
            " 1   Model                157 non-null    object \n",
            " 2   Sales_in_thousands   157 non-null    float64\n",
            " 3   __year_resale_value  121 non-null    float64\n",
            " 4   Vehicle_type         157 non-null    object \n",
            " 5   Price_in_thousands   155 non-null    float64\n",
            " 6   Engine_size          156 non-null    float64\n",
            " 7   Horsepower           156 non-null    float64\n",
            " 8   Wheelbase            156 non-null    float64\n",
            " 9   Width                156 non-null    float64\n",
            " 10  Length               156 non-null    float64\n",
            " 11  Curb_weight          155 non-null    float64\n",
            " 12  Fuel_capacity        156 non-null    float64\n",
            " 13  Fuel_efficiency      154 non-null    float64\n",
            " 14  Latest_Launch        157 non-null    object \n",
            " 15  Power_perf_factor    155 non-null    float64\n",
            "dtypes: float64(12), object(4)\n",
            "memory usage: 19.8+ KB\n"
          ]
        }
      ],
      "source": [
        "df.info()"
      ]
    },
    {
      "cell_type": "code",
      "execution_count": 6,
      "metadata": {
        "colab": {
          "base_uri": "https://localhost:8080/",
          "height": 364
        },
        "id": "B2TshNWz3PPp",
        "outputId": "f7d3c770-2bbe-462e-a4fe-2a85ed9dfac7"
      },
      "outputs": [
        {
          "data": {
            "text/html": [
              "\n",
              "  <div id=\"df-24230ba2-0eeb-4422-a66e-a02f7da69e01\">\n",
              "    <div class=\"colab-df-container\">\n",
              "      <div>\n",
              "<style scoped>\n",
              "    .dataframe tbody tr th:only-of-type {\n",
              "        vertical-align: middle;\n",
              "    }\n",
              "\n",
              "    .dataframe tbody tr th {\n",
              "        vertical-align: top;\n",
              "    }\n",
              "\n",
              "    .dataframe thead th {\n",
              "        text-align: right;\n",
              "    }\n",
              "</style>\n",
              "<table border=\"1\" class=\"dataframe\">\n",
              "  <thead>\n",
              "    <tr style=\"text-align: right;\">\n",
              "      <th></th>\n",
              "      <th>Sales_in_thousands</th>\n",
              "      <th>__year_resale_value</th>\n",
              "      <th>Price_in_thousands</th>\n",
              "      <th>Engine_size</th>\n",
              "      <th>Horsepower</th>\n",
              "      <th>Wheelbase</th>\n",
              "      <th>Width</th>\n",
              "      <th>Length</th>\n",
              "      <th>Curb_weight</th>\n",
              "      <th>Fuel_capacity</th>\n",
              "      <th>Fuel_efficiency</th>\n",
              "      <th>Power_perf_factor</th>\n",
              "    </tr>\n",
              "  </thead>\n",
              "  <tbody>\n",
              "    <tr>\n",
              "      <th>count</th>\n",
              "      <td>157.000000</td>\n",
              "      <td>121.000000</td>\n",
              "      <td>155.000000</td>\n",
              "      <td>156.000000</td>\n",
              "      <td>156.000000</td>\n",
              "      <td>156.000000</td>\n",
              "      <td>156.000000</td>\n",
              "      <td>156.000000</td>\n",
              "      <td>155.000000</td>\n",
              "      <td>156.000000</td>\n",
              "      <td>154.000000</td>\n",
              "      <td>155.000000</td>\n",
              "    </tr>\n",
              "    <tr>\n",
              "      <th>mean</th>\n",
              "      <td>52.998076</td>\n",
              "      <td>18.072975</td>\n",
              "      <td>27.390755</td>\n",
              "      <td>3.060897</td>\n",
              "      <td>185.948718</td>\n",
              "      <td>107.487179</td>\n",
              "      <td>71.150000</td>\n",
              "      <td>187.343590</td>\n",
              "      <td>3.378026</td>\n",
              "      <td>17.951923</td>\n",
              "      <td>23.844156</td>\n",
              "      <td>77.043591</td>\n",
              "    </tr>\n",
              "    <tr>\n",
              "      <th>std</th>\n",
              "      <td>68.029422</td>\n",
              "      <td>11.453384</td>\n",
              "      <td>14.351653</td>\n",
              "      <td>1.044653</td>\n",
              "      <td>56.700321</td>\n",
              "      <td>7.641303</td>\n",
              "      <td>3.451872</td>\n",
              "      <td>13.431754</td>\n",
              "      <td>0.630502</td>\n",
              "      <td>3.887921</td>\n",
              "      <td>4.282706</td>\n",
              "      <td>25.142664</td>\n",
              "    </tr>\n",
              "    <tr>\n",
              "      <th>min</th>\n",
              "      <td>0.110000</td>\n",
              "      <td>5.160000</td>\n",
              "      <td>9.235000</td>\n",
              "      <td>1.000000</td>\n",
              "      <td>55.000000</td>\n",
              "      <td>92.600000</td>\n",
              "      <td>62.600000</td>\n",
              "      <td>149.400000</td>\n",
              "      <td>1.895000</td>\n",
              "      <td>10.300000</td>\n",
              "      <td>15.000000</td>\n",
              "      <td>23.276272</td>\n",
              "    </tr>\n",
              "    <tr>\n",
              "      <th>25%</th>\n",
              "      <td>14.114000</td>\n",
              "      <td>11.260000</td>\n",
              "      <td>18.017500</td>\n",
              "      <td>2.300000</td>\n",
              "      <td>149.500000</td>\n",
              "      <td>103.000000</td>\n",
              "      <td>68.400000</td>\n",
              "      <td>177.575000</td>\n",
              "      <td>2.971000</td>\n",
              "      <td>15.800000</td>\n",
              "      <td>21.000000</td>\n",
              "      <td>60.407707</td>\n",
              "    </tr>\n",
              "    <tr>\n",
              "      <th>50%</th>\n",
              "      <td>29.450000</td>\n",
              "      <td>14.180000</td>\n",
              "      <td>22.799000</td>\n",
              "      <td>3.000000</td>\n",
              "      <td>177.500000</td>\n",
              "      <td>107.000000</td>\n",
              "      <td>70.550000</td>\n",
              "      <td>187.900000</td>\n",
              "      <td>3.342000</td>\n",
              "      <td>17.200000</td>\n",
              "      <td>24.000000</td>\n",
              "      <td>72.030917</td>\n",
              "    </tr>\n",
              "    <tr>\n",
              "      <th>75%</th>\n",
              "      <td>67.956000</td>\n",
              "      <td>19.875000</td>\n",
              "      <td>31.947500</td>\n",
              "      <td>3.575000</td>\n",
              "      <td>215.000000</td>\n",
              "      <td>112.200000</td>\n",
              "      <td>73.425000</td>\n",
              "      <td>196.125000</td>\n",
              "      <td>3.799500</td>\n",
              "      <td>19.575000</td>\n",
              "      <td>26.000000</td>\n",
              "      <td>89.414878</td>\n",
              "    </tr>\n",
              "    <tr>\n",
              "      <th>max</th>\n",
              "      <td>540.561000</td>\n",
              "      <td>67.550000</td>\n",
              "      <td>85.500000</td>\n",
              "      <td>8.000000</td>\n",
              "      <td>450.000000</td>\n",
              "      <td>138.700000</td>\n",
              "      <td>79.900000</td>\n",
              "      <td>224.500000</td>\n",
              "      <td>5.572000</td>\n",
              "      <td>32.000000</td>\n",
              "      <td>45.000000</td>\n",
              "      <td>188.144323</td>\n",
              "    </tr>\n",
              "  </tbody>\n",
              "</table>\n",
              "</div>\n",
              "      <button class=\"colab-df-convert\" onclick=\"convertToInteractive('df-24230ba2-0eeb-4422-a66e-a02f7da69e01')\"\n",
              "              title=\"Convert this dataframe to an interactive table.\"\n",
              "              style=\"display:none;\">\n",
              "        \n",
              "  <svg xmlns=\"http://www.w3.org/2000/svg\" height=\"24px\"viewBox=\"0 0 24 24\"\n",
              "       width=\"24px\">\n",
              "    <path d=\"M0 0h24v24H0V0z\" fill=\"none\"/>\n",
              "    <path d=\"M18.56 5.44l.94 2.06.94-2.06 2.06-.94-2.06-.94-.94-2.06-.94 2.06-2.06.94zm-11 1L8.5 8.5l.94-2.06 2.06-.94-2.06-.94L8.5 2.5l-.94 2.06-2.06.94zm10 10l.94 2.06.94-2.06 2.06-.94-2.06-.94-.94-2.06-.94 2.06-2.06.94z\"/><path d=\"M17.41 7.96l-1.37-1.37c-.4-.4-.92-.59-1.43-.59-.52 0-1.04.2-1.43.59L10.3 9.45l-7.72 7.72c-.78.78-.78 2.05 0 2.83L4 21.41c.39.39.9.59 1.41.59.51 0 1.02-.2 1.41-.59l7.78-7.78 2.81-2.81c.8-.78.8-2.07 0-2.86zM5.41 20L4 18.59l7.72-7.72 1.47 1.35L5.41 20z\"/>\n",
              "  </svg>\n",
              "      </button>\n",
              "      \n",
              "  <style>\n",
              "    .colab-df-container {\n",
              "      display:flex;\n",
              "      flex-wrap:wrap;\n",
              "      gap: 12px;\n",
              "    }\n",
              "\n",
              "    .colab-df-convert {\n",
              "      background-color: #E8F0FE;\n",
              "      border: none;\n",
              "      border-radius: 50%;\n",
              "      cursor: pointer;\n",
              "      display: none;\n",
              "      fill: #1967D2;\n",
              "      height: 32px;\n",
              "      padding: 0 0 0 0;\n",
              "      width: 32px;\n",
              "    }\n",
              "\n",
              "    .colab-df-convert:hover {\n",
              "      background-color: #E2EBFA;\n",
              "      box-shadow: 0px 1px 2px rgba(60, 64, 67, 0.3), 0px 1px 3px 1px rgba(60, 64, 67, 0.15);\n",
              "      fill: #174EA6;\n",
              "    }\n",
              "\n",
              "    [theme=dark] .colab-df-convert {\n",
              "      background-color: #3B4455;\n",
              "      fill: #D2E3FC;\n",
              "    }\n",
              "\n",
              "    [theme=dark] .colab-df-convert:hover {\n",
              "      background-color: #434B5C;\n",
              "      box-shadow: 0px 1px 3px 1px rgba(0, 0, 0, 0.15);\n",
              "      filter: drop-shadow(0px 1px 2px rgba(0, 0, 0, 0.3));\n",
              "      fill: #FFFFFF;\n",
              "    }\n",
              "  </style>\n",
              "\n",
              "      <script>\n",
              "        const buttonEl =\n",
              "          document.querySelector('#df-24230ba2-0eeb-4422-a66e-a02f7da69e01 button.colab-df-convert');\n",
              "        buttonEl.style.display =\n",
              "          google.colab.kernel.accessAllowed ? 'block' : 'none';\n",
              "\n",
              "        async function convertToInteractive(key) {\n",
              "          const element = document.querySelector('#df-24230ba2-0eeb-4422-a66e-a02f7da69e01');\n",
              "          const dataTable =\n",
              "            await google.colab.kernel.invokeFunction('convertToInteractive',\n",
              "                                                     [key], {});\n",
              "          if (!dataTable) return;\n",
              "\n",
              "          const docLinkHtml = 'Like what you see? Visit the ' +\n",
              "            '<a target=\"_blank\" href=https://colab.research.google.com/notebooks/data_table.ipynb>data table notebook</a>'\n",
              "            + ' to learn more about interactive tables.';\n",
              "          element.innerHTML = '';\n",
              "          dataTable['output_type'] = 'display_data';\n",
              "          await google.colab.output.renderOutput(dataTable, element);\n",
              "          const docLink = document.createElement('div');\n",
              "          docLink.innerHTML = docLinkHtml;\n",
              "          element.appendChild(docLink);\n",
              "        }\n",
              "      </script>\n",
              "    </div>\n",
              "  </div>\n",
              "  "
            ],
            "text/plain": [
              "       Sales_in_thousands  __year_resale_value  Price_in_thousands  \\\n",
              "count          157.000000           121.000000          155.000000   \n",
              "mean            52.998076            18.072975           27.390755   \n",
              "std             68.029422            11.453384           14.351653   \n",
              "min              0.110000             5.160000            9.235000   \n",
              "25%             14.114000            11.260000           18.017500   \n",
              "50%             29.450000            14.180000           22.799000   \n",
              "75%             67.956000            19.875000           31.947500   \n",
              "max            540.561000            67.550000           85.500000   \n",
              "\n",
              "       Engine_size  Horsepower   Wheelbase       Width      Length  \\\n",
              "count   156.000000  156.000000  156.000000  156.000000  156.000000   \n",
              "mean      3.060897  185.948718  107.487179   71.150000  187.343590   \n",
              "std       1.044653   56.700321    7.641303    3.451872   13.431754   \n",
              "min       1.000000   55.000000   92.600000   62.600000  149.400000   \n",
              "25%       2.300000  149.500000  103.000000   68.400000  177.575000   \n",
              "50%       3.000000  177.500000  107.000000   70.550000  187.900000   \n",
              "75%       3.575000  215.000000  112.200000   73.425000  196.125000   \n",
              "max       8.000000  450.000000  138.700000   79.900000  224.500000   \n",
              "\n",
              "       Curb_weight  Fuel_capacity  Fuel_efficiency  Power_perf_factor  \n",
              "count   155.000000     156.000000       154.000000         155.000000  \n",
              "mean      3.378026      17.951923        23.844156          77.043591  \n",
              "std       0.630502       3.887921         4.282706          25.142664  \n",
              "min       1.895000      10.300000        15.000000          23.276272  \n",
              "25%       2.971000      15.800000        21.000000          60.407707  \n",
              "50%       3.342000      17.200000        24.000000          72.030917  \n",
              "75%       3.799500      19.575000        26.000000          89.414878  \n",
              "max       5.572000      32.000000        45.000000         188.144323  "
            ]
          },
          "execution_count": 6,
          "metadata": {},
          "output_type": "execute_result"
        }
      ],
      "source": [
        "df.describe() "
      ]
    },
    {
      "cell_type": "code",
      "execution_count": 7,
      "metadata": {
        "colab": {
          "base_uri": "https://localhost:8080/"
        },
        "id": "9bCxRWuK3PR_",
        "outputId": "471aa406-5e6a-4fbf-e763-a4903371fdbb"
      },
      "outputs": [
        {
          "data": {
            "text/plain": [
              "Manufacturer            0\n",
              "Model                   0\n",
              "Sales_in_thousands      0\n",
              "__year_resale_value    36\n",
              "Vehicle_type            0\n",
              "Price_in_thousands      2\n",
              "Engine_size             1\n",
              "Horsepower              1\n",
              "Wheelbase               1\n",
              "Width                   1\n",
              "Length                  1\n",
              "Curb_weight             2\n",
              "Fuel_capacity           1\n",
              "Fuel_efficiency         3\n",
              "Latest_Launch           0\n",
              "Power_perf_factor       2\n",
              "dtype: int64"
            ]
          },
          "execution_count": 7,
          "metadata": {},
          "output_type": "execute_result"
        }
      ],
      "source": [
        "df.isna().sum()"
      ]
    },
    {
      "cell_type": "markdown",
      "metadata": {
        "id": "v78nnUfq4-JH"
      },
      "source": [
        "#### 2.2 Plotando e modificando as variáveis"
      ]
    },
    {
      "cell_type": "code",
      "execution_count": 8,
      "metadata": {
        "id": "_OP-FRIB3Pb3"
      },
      "outputs": [],
      "source": [
        "# Declarando as variáveis\n",
        "\n",
        "price = df['Price_in_thousands'].values.reshape(-1, 1)\n",
        "sale =  df['Sales_in_thousands'].values.reshape(-1, 1)\n",
        "resale = df['__year_resale_value'].values.reshape(-1, 1)\n",
        "enginesize = df['Engine_size'].values.reshape(-1, 1)\n",
        "horsepower = df['Horsepower'].values.reshape(-1, 1)\n",
        "wheelbase = df['Wheelbase'].values.reshape(-1, 1)\n",
        "width = df[['Width']].values.reshape(-1, 1)\n",
        "length = df['Length'].values.reshape(-1, 1)\n",
        "curbweight = df['Curb_weight'].values.reshape(-1, 1)\n",
        "fuelcapacity = df['Fuel_capacity'].values.reshape(-1, 1)\n",
        "fuelefficiency = df['Fuel_efficiency'].values.reshape(-1, 1)\n",
        "power = df['Power_perf_factor'].values.reshape(-1, 1)\n"
      ]
    },
    {
      "cell_type": "code",
      "execution_count": 9,
      "metadata": {
        "colab": {
          "base_uri": "https://localhost:8080/",
          "height": 588
        },
        "id": "dygg77LW3Pd_",
        "outputId": "f16c2207-d551-47f1-a890-95fbcada3d19"
      },
      "outputs": [
        {
          "data": {
            "image/png": "[encoded data removed]",
            "text/plain": [
              "<Figure size 3600x1440 with 12 Axes>"
            ]
          },
          "metadata": {
            "needs_background": "light"
          },
          "output_type": "display_data"
        }
      ],
      "source": [
        "# Gráfico de dispersão entre variáveis ​​independentes e preços\n",
        "fig, ((ax1, ax2, ax3, ax4, ax5, ax6), (ax7, ax8, ax9, ax10, ax11, ax12)) = plt.subplots(ncols = 6, nrows = 2, figsize=(50, 20))\n",
        "ax1.scatter(sale, price, color = 'r')\n",
        "ax1.set(xlabel = 'Sale')\n",
        "ax1.set(ylabel = 'Prices in thousands')\n",
        "ax1.set(title = 'Scatter of Prices and Sales_in_thousands')\n",
        "\n",
        "ax2.scatter(resale, price)\n",
        "ax2.set(xlabel = 'Resale')\n",
        "ax2.set(ylabel = 'Prices in thousands')\n",
        "ax2.set(title = 'Scatter of Prices and --year_resale_value')\n",
        "\n",
        "ax3.scatter(enginesize, price, color = 'r')\n",
        "ax3.set(xlabel = 'Enginesize')\n",
        "ax3.set(ylabel = 'Prices in thousands')\n",
        "ax3.set(title = 'Scatter of Prices and enginesize')\n",
        "\n",
        "ax4.scatter(horsepower, price)\n",
        "ax4.set(xlabel = 'horsepower')\n",
        "ax4.set(ylabel = 'Prices in thousands')\n",
        "ax4.set(title = 'Scatter of Prices and horsepower')\n",
        "\n",
        "ax5.scatter(wheelbase, price, color = 'r')\n",
        "ax5.set(xlabel = 'wheelbase')\n",
        "ax5.set(ylabel = 'Prices in thousands')\n",
        "ax5.set(title = 'Scatter of Prices and wheelbase')\n",
        "\n",
        "ax6.scatter(width, price, color = 'r')\n",
        "ax6.set(xlabel = 'width')\n",
        "ax6.set(ylabel = 'Prices in thousands')\n",
        "ax6.set(title = 'Scatter of Prices and width')\n",
        "\n",
        "ax7.scatter(length, price, color = 'r')\n",
        "ax7.set(xlabel = 'length')\n",
        "ax7.set(ylabel = 'Prices in thousands')\n",
        "ax7.set(title = 'Scatter of Prices and length')\n",
        "\n",
        "ax8.scatter(curbweight, price, color = 'r')\n",
        "ax8.set(xlabel = 'curbweight')\n",
        "ax8.set(ylabel = 'Prices in thousands')\n",
        "ax8.set(title = 'Scatter of Prices and curbweight')\n",
        "\n",
        "ax9.scatter(fuelcapacity, price, color = 'r')\n",
        "ax9.set(xlabel = 'fuelcapacity')\n",
        "ax9.set(ylabel = 'Prices in thousands')\n",
        "ax9.set(title = 'Scatter of Prices and fuelcapacity')\n",
        "\n",
        "ax10.scatter(fuelefficiency, price, color = 'r')\n",
        "ax10.set(xlabel = 'fuelefficiency')\n",
        "ax10.set(ylabel = 'Prices in thousands')\n",
        "ax10.set(title = 'Scatter of Prices and fuelefficiency')\n",
        "\n",
        "ax11.scatter(power, price)\n",
        "ax11.set(xlabel = 'power')\n",
        "ax11.set(ylabel = 'Prices in thousands')\n",
        "ax11.set(title = 'Scatter of Prices and power')\n",
        "\n",
        "plt.show()"
      ]
    },
    {
      "cell_type": "code",
      "execution_count": 10,
      "metadata": {
        "colab": {
          "base_uri": "https://localhost:8080/",
          "height": 295
        },
        "id": "4a4j_TYgub7F",
        "outputId": "90cb6448-685b-4d58-fb3a-29d2d1cbeea3"
      },
      "outputs": [
        {
          "data": {
            "image/png": "[encoded data removed]",
            "text/plain": [
              "<Figure size 864x288 with 1 Axes>"
            ]
          },
          "metadata": {
            "needs_background": "light"
          },
          "output_type": "display_data"
        }
      ],
      "source": [
        "## Top 10 'Fabricantes' com a maioria dos 'Modelos' fabricados?\n",
        "\n",
        "manufacturer_count = dict()\n",
        "for each_manufacturer in list(df['Manufacturer']):\n",
        "  if each_manufacturer not in manufacturer_count:\n",
        "    manufacturer_count[each_manufacturer] = 1\n",
        "  else:\n",
        "    manufacturer_count[each_manufacturer] += 1\n",
        "  \n",
        "sorted_manufacturers = dict(sorted(manufacturer_count.items(), key= lambda item: item[1], reverse= True))\n",
        "\n",
        "top_10_manufacturers = []\n",
        "top_10_counts = []\n",
        "for each_manufacturer in sorted_manufacturers:\n",
        "   top_10_manufacturers.append(each_manufacturer)\n",
        "   top_10_counts.append(sorted_manufacturers[each_manufacturer])\n",
        "   if len(top_10_counts) == 10:\n",
        "     break\n",
        "\n",
        "fig = plt.figure(figsize=(12, 4))\n",
        "plt.bar(top_10_manufacturers, top_10_counts, color = 'blue', width= 0.4)\n",
        "plt.xlabel('Top 10 Manufacturers')\n",
        "plt.ylabel('Models Manufactured')\n",
        "plt.title('Top 10 manufacturers with most models manufactured')\n",
        "plt.show()\n"
      ]
    },
    {
      "cell_type": "markdown",
      "metadata": {
        "id": "4x7esrn8nDOK"
      },
      "source": [
        "\n",
        "Se observarmos o gráfico acima, veremos que entre os top 10 fabricantes os que mais se destacaram foram: Ford e Dodge."
      ]
    },
    {
      "cell_type": "code",
      "execution_count": 11,
      "metadata": {
        "colab": {
          "base_uri": "https://localhost:8080/"
        },
        "id": "Ib9BPLoAuxMo",
        "outputId": "a1e96c4d-6ac5-4a8b-ae95-553db494ed89"
      },
      "outputs": [
        {
          "name": "stdout",
          "output_type": "stream",
          "text": [
            "Staying: {'Ford': 183.87590909090912, 'Honda': 118.53479999999999, 'Jeep': 97.71766666666667, 'Dodge': 82.74081818181818, 'Toyota': 82.245, 'Pontiac': 61.75566666666668, 'Chevrolet': 61.596111111111114, 'Buick': 60.50475, 'Nissan': 57.090714285714284, 'Hyundai': 45.77533333333333, 'Subaru': 40.067499999999995, 'Mercury': 39.666500000000006, 'Volkswagen': 34.86866666666666, 'Saturn': 33.769999999999996, 'Oldsmobile': 29.831499999999995, 'Chrysler': 28.817285714285713, 'Lincoln': 28.544666666666668, 'Mitsubishi': 25.842142857142854, 'Infiniti': 23.713, 'Cadillac': 22.4356, 'Acura': 19.75125, 'Lexus': 17.807166666666664, 'Plymouth': 16.00025, 'BMW': 15.501666666666667, 'Jaguar': 15.467, 'Audi': 13.519, 'Mercedes-B': 13.01388888888889, 'Volvo': 12.623333333333335, 'Saab': 10.653, 'Porsche': 4.042666666666666}\n"
          ]
        }
      ],
      "source": [
        "average_sales = dict()\n",
        "manufacturers = set(df['Manufacturer'])\n",
        "for each_manufacturer in manufacturers:\n",
        "    manufacturer_sales = list(df[df['Manufacturer'] == each_manufacturer]['Sales_in_thousands'])\n",
        "    average_sales[each_manufacturer] = np.mean(manufacturer_sales)\n",
        "\n",
        "sorted_manufacturers = dict(sorted(average_sales.items(), key = lambda item : item[1], reverse = True))\n",
        "\n",
        "print('Staying: {}'.format(sorted_manufacturers))"
      ]
    },
    {
      "cell_type": "code",
      "execution_count": 12,
      "metadata": {
        "colab": {
          "base_uri": "https://localhost:8080/",
          "height": 276
        },
        "id": "P_RdwLRnvi4e",
        "outputId": "dd833143-a875-4b0c-cf4f-f5ed07343573"
      },
      "outputs": [
        {
          "name": "stderr",
          "output_type": "stream",
          "text": [
            "WARNING:matplotlib.legend:No handles with labels found to put in legend.\n"
          ]
        },
        {
          "data": {
            "text/plain": [
              "<matplotlib.legend.Legend at 0x7f19df675950>"
            ]
          },
          "execution_count": 12,
          "metadata": {},
          "output_type": "execute_result"
        },
        {
          "data": {
            "image/png": "[encoded data removed]",
            "text/plain": [
              "<Figure size 360x216 with 1 Axes>"
            ]
          },
          "metadata": {
            "needs_background": "light"
          },
          "output_type": "display_data"
        }
      ],
      "source": [
        "# Histograma para os valores médios de vendas\n",
        "ax = sns.histplot(list(sorted_manufacturers.values()), bins = 20)\n",
        "ax.figure.set_size_inches(5, 3)\n",
        "plt.title('Histogram for the average sales values')         \n",
        "plt.ylabel('Frequência')                     \n",
        "plt.xlabel('Average sales')          \n",
        "plt.legend() "
      ]
    },
    {
      "cell_type": "code",
      "execution_count": 13,
      "metadata": {
        "colab": {
          "base_uri": "https://localhost:8080/",
          "height": 903
        },
        "id": "x07OHGatqExi",
        "outputId": "5df7a247-a7d6-4f9a-ef02-a634d6362ea7"
      },
      "outputs": [
        {
          "data": {
            "image/png": "[encoded data removed]",
            "text/plain": [
              "<Figure size 1700x850 with 2 Axes>"
            ]
          },
          "metadata": {
            "needs_background": "light"
          },
          "output_type": "display_data"
        }
      ],
      "source": [
        "plt.rcParams['font.size'] = 9\n",
        "plt.rcParams['figure.dpi'] = 170\n",
        "plt.rcParams['figure.figsize'] = (10,5)\n",
        "heatmap = sns.heatmap(df.corr(), annot=True, linewidths= .5)\n",
        "heatmap.set_title('Correlation Heatmap')\n",
        "plt.show()\n"
      ]
    },
    {
      "cell_type": "markdown",
      "metadata": {
        "id": "sF7DHJJswDyz"
      },
      "source": [
        "# 3.0 Pré - Processamento Dos Dados"
      ]
    },
    {
      "cell_type": "code",
      "execution_count": 14,
      "metadata": {
        "id": "e3Q1VEBapebz"
      },
      "outputs": [],
      "source": [
        "# Pacotes de pré-processamento de dados \n",
        "import statsmodels.api as sm\n",
        "from sklearn.compose import ColumnTransformer\n",
        "from sklearn.preprocessing import OneHotEncoder\n",
        "from sklearn.model_selection import train_test_split\n",
        "from sklearn.preprocessing import StandardScaler"
      ]
    },
    {
      "cell_type": "code",
      "execution_count": 15,
      "metadata": {
        "colab": {
          "base_uri": "https://localhost:8080/",
          "height": 488
        },
        "id": "kG-T_yUvperN",
        "outputId": "c4b40527-f85e-44aa-9de8-2c184415443d"
      },
      "outputs": [
        {
          "data": {
            "text/html": [
              "\n",
              "  <div id=\"df-966326ee-6db1-4904-ab79-c0ad7c8bd168\">\n",
              "    <div class=\"colab-df-container\">\n",
              "      <div>\n",
              "<style scoped>\n",
              "    .dataframe tbody tr th:only-of-type {\n",
              "        vertical-align: middle;\n",
              "    }\n",
              "\n",
              "    .dataframe tbody tr th {\n",
              "        vertical-align: top;\n",
              "    }\n",
              "\n",
              "    .dataframe thead th {\n",
              "        text-align: right;\n",
              "    }\n",
              "</style>\n",
              "<table border=\"1\" class=\"dataframe\">\n",
              "  <thead>\n",
              "    <tr style=\"text-align: right;\">\n",
              "      <th></th>\n",
              "      <th>Manufacturer</th>\n",
              "      <th>Sales_in_thousands</th>\n",
              "      <th>__year_resale_value</th>\n",
              "      <th>Vehicle_type</th>\n",
              "      <th>Price_in_thousands</th>\n",
              "      <th>Engine_size</th>\n",
              "      <th>Horsepower</th>\n",
              "      <th>Wheelbase</th>\n",
              "      <th>Width</th>\n",
              "      <th>Length</th>\n",
              "      <th>Curb_weight</th>\n",
              "      <th>Fuel_capacity</th>\n",
              "      <th>Fuel_efficiency</th>\n",
              "      <th>Power_perf_factor</th>\n",
              "    </tr>\n",
              "  </thead>\n",
              "  <tbody>\n",
              "    <tr>\n",
              "      <th>0</th>\n",
              "      <td>Acura</td>\n",
              "      <td>16.919</td>\n",
              "      <td>16.360</td>\n",
              "      <td>Passenger</td>\n",
              "      <td>21.50</td>\n",
              "      <td>1.8</td>\n",
              "      <td>140.0</td>\n",
              "      <td>101.2</td>\n",
              "      <td>67.3</td>\n",
              "      <td>172.4</td>\n",
              "      <td>2.639</td>\n",
              "      <td>13.2</td>\n",
              "      <td>28.0</td>\n",
              "      <td>58.280150</td>\n",
              "    </tr>\n",
              "    <tr>\n",
              "      <th>1</th>\n",
              "      <td>Acura</td>\n",
              "      <td>39.384</td>\n",
              "      <td>19.875</td>\n",
              "      <td>Passenger</td>\n",
              "      <td>28.40</td>\n",
              "      <td>3.2</td>\n",
              "      <td>225.0</td>\n",
              "      <td>108.1</td>\n",
              "      <td>70.3</td>\n",
              "      <td>192.9</td>\n",
              "      <td>3.517</td>\n",
              "      <td>17.2</td>\n",
              "      <td>25.0</td>\n",
              "      <td>91.370778</td>\n",
              "    </tr>\n",
              "    <tr>\n",
              "      <th>2</th>\n",
              "      <td>Acura</td>\n",
              "      <td>14.114</td>\n",
              "      <td>18.225</td>\n",
              "      <td>Passenger</td>\n",
              "      <td>NaN</td>\n",
              "      <td>3.2</td>\n",
              "      <td>225.0</td>\n",
              "      <td>106.9</td>\n",
              "      <td>70.6</td>\n",
              "      <td>192.0</td>\n",
              "      <td>3.470</td>\n",
              "      <td>17.2</td>\n",
              "      <td>26.0</td>\n",
              "      <td>NaN</td>\n",
              "    </tr>\n",
              "    <tr>\n",
              "      <th>3</th>\n",
              "      <td>Acura</td>\n",
              "      <td>8.588</td>\n",
              "      <td>29.725</td>\n",
              "      <td>Passenger</td>\n",
              "      <td>42.00</td>\n",
              "      <td>3.5</td>\n",
              "      <td>210.0</td>\n",
              "      <td>114.6</td>\n",
              "      <td>71.4</td>\n",
              "      <td>196.6</td>\n",
              "      <td>3.850</td>\n",
              "      <td>18.0</td>\n",
              "      <td>22.0</td>\n",
              "      <td>91.389779</td>\n",
              "    </tr>\n",
              "    <tr>\n",
              "      <th>4</th>\n",
              "      <td>Audi</td>\n",
              "      <td>20.397</td>\n",
              "      <td>22.255</td>\n",
              "      <td>Passenger</td>\n",
              "      <td>23.99</td>\n",
              "      <td>1.8</td>\n",
              "      <td>150.0</td>\n",
              "      <td>102.6</td>\n",
              "      <td>68.2</td>\n",
              "      <td>178.0</td>\n",
              "      <td>2.998</td>\n",
              "      <td>16.4</td>\n",
              "      <td>27.0</td>\n",
              "      <td>62.777639</td>\n",
              "    </tr>\n",
              "    <tr>\n",
              "      <th>...</th>\n",
              "      <td>...</td>\n",
              "      <td>...</td>\n",
              "      <td>...</td>\n",
              "      <td>...</td>\n",
              "      <td>...</td>\n",
              "      <td>...</td>\n",
              "      <td>...</td>\n",
              "      <td>...</td>\n",
              "      <td>...</td>\n",
              "      <td>...</td>\n",
              "      <td>...</td>\n",
              "      <td>...</td>\n",
              "      <td>...</td>\n",
              "      <td>...</td>\n",
              "    </tr>\n",
              "    <tr>\n",
              "      <th>152</th>\n",
              "      <td>Volvo</td>\n",
              "      <td>3.545</td>\n",
              "      <td>NaN</td>\n",
              "      <td>Passenger</td>\n",
              "      <td>24.40</td>\n",
              "      <td>1.9</td>\n",
              "      <td>160.0</td>\n",
              "      <td>100.5</td>\n",
              "      <td>67.6</td>\n",
              "      <td>176.6</td>\n",
              "      <td>3.042</td>\n",
              "      <td>15.8</td>\n",
              "      <td>25.0</td>\n",
              "      <td>66.498812</td>\n",
              "    </tr>\n",
              "    <tr>\n",
              "      <th>153</th>\n",
              "      <td>Volvo</td>\n",
              "      <td>15.245</td>\n",
              "      <td>NaN</td>\n",
              "      <td>Passenger</td>\n",
              "      <td>27.50</td>\n",
              "      <td>2.4</td>\n",
              "      <td>168.0</td>\n",
              "      <td>104.9</td>\n",
              "      <td>69.3</td>\n",
              "      <td>185.9</td>\n",
              "      <td>3.208</td>\n",
              "      <td>17.9</td>\n",
              "      <td>25.0</td>\n",
              "      <td>70.654495</td>\n",
              "    </tr>\n",
              "    <tr>\n",
              "      <th>154</th>\n",
              "      <td>Volvo</td>\n",
              "      <td>17.531</td>\n",
              "      <td>NaN</td>\n",
              "      <td>Passenger</td>\n",
              "      <td>28.80</td>\n",
              "      <td>2.4</td>\n",
              "      <td>168.0</td>\n",
              "      <td>104.9</td>\n",
              "      <td>69.3</td>\n",
              "      <td>186.2</td>\n",
              "      <td>3.259</td>\n",
              "      <td>17.9</td>\n",
              "      <td>25.0</td>\n",
              "      <td>71.155978</td>\n",
              "    </tr>\n",
              "    <tr>\n",
              "      <th>155</th>\n",
              "      <td>Volvo</td>\n",
              "      <td>3.493</td>\n",
              "      <td>NaN</td>\n",
              "      <td>Passenger</td>\n",
              "      <td>45.50</td>\n",
              "      <td>2.3</td>\n",
              "      <td>236.0</td>\n",
              "      <td>104.9</td>\n",
              "      <td>71.5</td>\n",
              "      <td>185.7</td>\n",
              "      <td>3.601</td>\n",
              "      <td>18.5</td>\n",
              "      <td>23.0</td>\n",
              "      <td>101.623357</td>\n",
              "    </tr>\n",
              "    <tr>\n",
              "      <th>156</th>\n",
              "      <td>Volvo</td>\n",
              "      <td>18.969</td>\n",
              "      <td>NaN</td>\n",
              "      <td>Passenger</td>\n",
              "      <td>36.00</td>\n",
              "      <td>2.9</td>\n",
              "      <td>201.0</td>\n",
              "      <td>109.9</td>\n",
              "      <td>72.1</td>\n",
              "      <td>189.8</td>\n",
              "      <td>3.600</td>\n",
              "      <td>21.1</td>\n",
              "      <td>24.0</td>\n",
              "      <td>85.735655</td>\n",
              "    </tr>\n",
              "  </tbody>\n",
              "</table>\n",
              "<p>157 rows × 14 columns</p>\n",
              "</div>\n",
              "      <button class=\"colab-df-convert\" onclick=\"convertToInteractive('df-966326ee-6db1-4904-ab79-c0ad7c8bd168')\"\n",
              "              title=\"Convert this dataframe to an interactive table.\"\n",
              "              style=\"display:none;\">\n",
              "        \n",
              "  <svg xmlns=\"http://www.w3.org/2000/svg\" height=\"24px\"viewBox=\"0 0 24 24\"\n",
              "       width=\"24px\">\n",
              "    <path d=\"M0 0h24v24H0V0z\" fill=\"none\"/>\n",
              "    <path d=\"M18.56 5.44l.94 2.06.94-2.06 2.06-.94-2.06-.94-.94-2.06-.94 2.06-2.06.94zm-11 1L8.5 8.5l.94-2.06 2.06-.94-2.06-.94L8.5 2.5l-.94 2.06-2.06.94zm10 10l.94 2.06.94-2.06 2.06-.94-2.06-.94-.94-2.06-.94 2.06-2.06.94z\"/><path d=\"M17.41 7.96l-1.37-1.37c-.4-.4-.92-.59-1.43-.59-.52 0-1.04.2-1.43.59L10.3 9.45l-7.72 7.72c-.78.78-.78 2.05 0 2.83L4 21.41c.39.39.9.59 1.41.59.51 0 1.02-.2 1.41-.59l7.78-7.78 2.81-2.81c.8-.78.8-2.07 0-2.86zM5.41 20L4 18.59l7.72-7.72 1.47 1.35L5.41 20z\"/>\n",
              "  </svg>\n",
              "      </button>\n",
              "      \n",
              "  <style>\n",
              "    .colab-df-container {\n",
              "      display:flex;\n",
              "      flex-wrap:wrap;\n",
              "      gap: 12px;\n",
              "    }\n",
              "\n",
              "    .colab-df-convert {\n",
              "      background-color: #E8F0FE;\n",
              "      border: none;\n",
              "      border-radius: 50%;\n",
              "      cursor: pointer;\n",
              "      display: none;\n",
              "      fill: #1967D2;\n",
              "      height: 32px;\n",
              "      padding: 0 0 0 0;\n",
              "      width: 32px;\n",
              "    }\n",
              "\n",
              "    .colab-df-convert:hover {\n",
              "      background-color: #E2EBFA;\n",
              "      box-shadow: 0px 1px 2px rgba(60, 64, 67, 0.3), 0px 1px 3px 1px rgba(60, 64, 67, 0.15);\n",
              "      fill: #174EA6;\n",
              "    }\n",
              "\n",
              "    [theme=dark] .colab-df-convert {\n",
              "      background-color: #3B4455;\n",
              "      fill: #D2E3FC;\n",
              "    }\n",
              "\n",
              "    [theme=dark] .colab-df-convert:hover {\n",
              "      background-color: #434B5C;\n",
              "      box-shadow: 0px 1px 3px 1px rgba(0, 0, 0, 0.15);\n",
              "      filter: drop-shadow(0px 1px 2px rgba(0, 0, 0, 0.3));\n",
              "      fill: #FFFFFF;\n",
              "    }\n",
              "  </style>\n",
              "\n",
              "      <script>\n",
              "        const buttonEl =\n",
              "          document.querySelector('#df-966326ee-6db1-4904-ab79-c0ad7c8bd168 button.colab-df-convert');\n",
              "        buttonEl.style.display =\n",
              "          google.colab.kernel.accessAllowed ? 'block' : 'none';\n",
              "\n",
              "        async function convertToInteractive(key) {\n",
              "          const element = document.querySelector('#df-966326ee-6db1-4904-ab79-c0ad7c8bd168');\n",
              "          const dataTable =\n",
              "            await google.colab.kernel.invokeFunction('convertToInteractive',\n",
              "                                                     [key], {});\n",
              "          if (!dataTable) return;\n",
              "\n",
              "          const docLinkHtml = 'Like what you see? Visit the ' +\n",
              "            '<a target=\"_blank\" href=https://colab.research.google.com/notebooks/data_table.ipynb>data table notebook</a>'\n",
              "            + ' to learn more about interactive tables.';\n",
              "          element.innerHTML = '';\n",
              "          dataTable['output_type'] = 'display_data';\n",
              "          await google.colab.output.renderOutput(dataTable, element);\n",
              "          const docLink = document.createElement('div');\n",
              "          docLink.innerHTML = docLinkHtml;\n",
              "          element.appendChild(docLink);\n",
              "        }\n",
              "      </script>\n",
              "    </div>\n",
              "  </div>\n",
              "  "
            ],
            "text/plain": [
              "    Manufacturer  Sales_in_thousands  __year_resale_value Vehicle_type  \\\n",
              "0          Acura              16.919               16.360    Passenger   \n",
              "1          Acura              39.384               19.875    Passenger   \n",
              "2          Acura              14.114               18.225    Passenger   \n",
              "3          Acura               8.588               29.725    Passenger   \n",
              "4           Audi              20.397               22.255    Passenger   \n",
              "..           ...                 ...                  ...          ...   \n",
              "152        Volvo               3.545                  NaN    Passenger   \n",
              "153        Volvo              15.245                  NaN    Passenger   \n",
              "154        Volvo              17.531                  NaN    Passenger   \n",
              "155        Volvo               3.493                  NaN    Passenger   \n",
              "156        Volvo              18.969                  NaN    Passenger   \n",
              "\n",
              "     Price_in_thousands  Engine_size  Horsepower  Wheelbase  Width  Length  \\\n",
              "0                 21.50          1.8       140.0      101.2   67.3   172.4   \n",
              "1                 28.40          3.2       225.0      108.1   70.3   192.9   \n",
              "2                   NaN          3.2       225.0      106.9   70.6   192.0   \n",
              "3                 42.00          3.5       210.0      114.6   71.4   196.6   \n",
              "4                 23.99          1.8       150.0      102.6   68.2   178.0   \n",
              "..                  ...          ...         ...        ...    ...     ...   \n",
              "152               24.40          1.9       160.0      100.5   67.6   176.6   \n",
              "153               27.50          2.4       168.0      104.9   69.3   185.9   \n",
              "154               28.80          2.4       168.0      104.9   69.3   186.2   \n",
              "155               45.50          2.3       236.0      104.9   71.5   185.7   \n",
              "156               36.00          2.9       201.0      109.9   72.1   189.8   \n",
              "\n",
              "     Curb_weight  Fuel_capacity  Fuel_efficiency  Power_perf_factor  \n",
              "0          2.639           13.2             28.0          58.280150  \n",
              "1          3.517           17.2             25.0          91.370778  \n",
              "2          3.470           17.2             26.0                NaN  \n",
              "3          3.850           18.0             22.0          91.389779  \n",
              "4          2.998           16.4             27.0          62.777639  \n",
              "..           ...            ...              ...                ...  \n",
              "152        3.042           15.8             25.0          66.498812  \n",
              "153        3.208           17.9             25.0          70.654495  \n",
              "154        3.259           17.9             25.0          71.155978  \n",
              "155        3.601           18.5             23.0         101.623357  \n",
              "156        3.600           21.1             24.0          85.735655  \n",
              "\n",
              "[157 rows x 14 columns]"
            ]
          },
          "execution_count": 15,
          "metadata": {},
          "output_type": "execute_result"
        }
      ],
      "source": [
        "## Drop nas Colunas - Model e Lastest launch\n",
        "alterando_dataset = df.drop(['Model', 'Latest_Launch'], axis=1)\n",
        "alterando_dataset"
      ]
    },
    {
      "cell_type": "code",
      "execution_count": 16,
      "metadata": {
        "colab": {
          "base_uri": "https://localhost:8080/"
        },
        "id": "xfVSMvmQxRfc",
        "outputId": "8d3452ab-0225-4c84-dc0f-7341fba11d05"
      },
      "outputs": [
        {
          "data": {
            "text/plain": [
              "2"
            ]
          },
          "execution_count": 16,
          "metadata": {},
          "output_type": "execute_result"
        }
      ],
      "source": [
        "# Verificando se na coluna Price in Thousands existe Na:\n",
        "alterando_dataset['Price_in_thousands'].isna().sum()\n"
      ]
    },
    {
      "cell_type": "code",
      "execution_count": 17,
      "metadata": {
        "colab": {
          "base_uri": "https://localhost:8080/",
          "height": 270
        },
        "id": "NwGPhlcXpeuR",
        "outputId": "9d6cba29-2893-48db-96b0-a5e12db0ff8a"
      },
      "outputs": [
        {
          "data": {
            "text/html": [
              "\n",
              "  <div id=\"df-29038a9b-86bd-4604-885d-8e5677ae32c1\">\n",
              "    <div class=\"colab-df-container\">\n",
              "      <div>\n",
              "<style scoped>\n",
              "    .dataframe tbody tr th:only-of-type {\n",
              "        vertical-align: middle;\n",
              "    }\n",
              "\n",
              "    .dataframe tbody tr th {\n",
              "        vertical-align: top;\n",
              "    }\n",
              "\n",
              "    .dataframe thead th {\n",
              "        text-align: right;\n",
              "    }\n",
              "</style>\n",
              "<table border=\"1\" class=\"dataframe\">\n",
              "  <thead>\n",
              "    <tr style=\"text-align: right;\">\n",
              "      <th></th>\n",
              "      <th>Manufacturer</th>\n",
              "      <th>Sales_in_thousands</th>\n",
              "      <th>__year_resale_value</th>\n",
              "      <th>Vehicle_type</th>\n",
              "      <th>Price_in_thousands</th>\n",
              "      <th>Engine_size</th>\n",
              "      <th>Horsepower</th>\n",
              "      <th>Wheelbase</th>\n",
              "      <th>Width</th>\n",
              "      <th>Length</th>\n",
              "      <th>Curb_weight</th>\n",
              "      <th>Fuel_capacity</th>\n",
              "      <th>Fuel_efficiency</th>\n",
              "      <th>Power_perf_factor</th>\n",
              "    </tr>\n",
              "  </thead>\n",
              "  <tbody>\n",
              "    <tr>\n",
              "      <th>0</th>\n",
              "      <td>Acura</td>\n",
              "      <td>16.919</td>\n",
              "      <td>16.360</td>\n",
              "      <td>Passenger</td>\n",
              "      <td>21.50</td>\n",
              "      <td>1.8</td>\n",
              "      <td>140.0</td>\n",
              "      <td>101.2</td>\n",
              "      <td>67.3</td>\n",
              "      <td>172.4</td>\n",
              "      <td>2.639</td>\n",
              "      <td>13.2</td>\n",
              "      <td>28.0</td>\n",
              "      <td>58.280150</td>\n",
              "    </tr>\n",
              "    <tr>\n",
              "      <th>1</th>\n",
              "      <td>Acura</td>\n",
              "      <td>39.384</td>\n",
              "      <td>19.875</td>\n",
              "      <td>Passenger</td>\n",
              "      <td>28.40</td>\n",
              "      <td>3.2</td>\n",
              "      <td>225.0</td>\n",
              "      <td>108.1</td>\n",
              "      <td>70.3</td>\n",
              "      <td>192.9</td>\n",
              "      <td>3.517</td>\n",
              "      <td>17.2</td>\n",
              "      <td>25.0</td>\n",
              "      <td>91.370778</td>\n",
              "    </tr>\n",
              "    <tr>\n",
              "      <th>3</th>\n",
              "      <td>Acura</td>\n",
              "      <td>8.588</td>\n",
              "      <td>29.725</td>\n",
              "      <td>Passenger</td>\n",
              "      <td>42.00</td>\n",
              "      <td>3.5</td>\n",
              "      <td>210.0</td>\n",
              "      <td>114.6</td>\n",
              "      <td>71.4</td>\n",
              "      <td>196.6</td>\n",
              "      <td>3.850</td>\n",
              "      <td>18.0</td>\n",
              "      <td>22.0</td>\n",
              "      <td>91.389779</td>\n",
              "    </tr>\n",
              "    <tr>\n",
              "      <th>4</th>\n",
              "      <td>Audi</td>\n",
              "      <td>20.397</td>\n",
              "      <td>22.255</td>\n",
              "      <td>Passenger</td>\n",
              "      <td>23.99</td>\n",
              "      <td>1.8</td>\n",
              "      <td>150.0</td>\n",
              "      <td>102.6</td>\n",
              "      <td>68.2</td>\n",
              "      <td>178.0</td>\n",
              "      <td>2.998</td>\n",
              "      <td>16.4</td>\n",
              "      <td>27.0</td>\n",
              "      <td>62.777639</td>\n",
              "    </tr>\n",
              "    <tr>\n",
              "      <th>5</th>\n",
              "      <td>Audi</td>\n",
              "      <td>18.780</td>\n",
              "      <td>23.555</td>\n",
              "      <td>Passenger</td>\n",
              "      <td>33.95</td>\n",
              "      <td>2.8</td>\n",
              "      <td>200.0</td>\n",
              "      <td>108.7</td>\n",
              "      <td>76.1</td>\n",
              "      <td>192.0</td>\n",
              "      <td>3.561</td>\n",
              "      <td>18.5</td>\n",
              "      <td>22.0</td>\n",
              "      <td>84.565105</td>\n",
              "    </tr>\n",
              "  </tbody>\n",
              "</table>\n",
              "</div>\n",
              "      <button class=\"colab-df-convert\" onclick=\"convertToInteractive('df-29038a9b-86bd-4604-885d-8e5677ae32c1')\"\n",
              "              title=\"Convert this dataframe to an interactive table.\"\n",
              "              style=\"display:none;\">\n",
              "        \n",
              "  <svg xmlns=\"http://www.w3.org/2000/svg\" height=\"24px\"viewBox=\"0 0 24 24\"\n",
              "       width=\"24px\">\n",
              "    <path d=\"M0 0h24v24H0V0z\" fill=\"none\"/>\n",
              "    <path d=\"M18.56 5.44l.94 2.06.94-2.06 2.06-.94-2.06-.94-.94-2.06-.94 2.06-2.06.94zm-11 1L8.5 8.5l.94-2.06 2.06-.94-2.06-.94L8.5 2.5l-.94 2.06-2.06.94zm10 10l.94 2.06.94-2.06 2.06-.94-2.06-.94-.94-2.06-.94 2.06-2.06.94z\"/><path d=\"M17.41 7.96l-1.37-1.37c-.4-.4-.92-.59-1.43-.59-.52 0-1.04.2-1.43.59L10.3 9.45l-7.72 7.72c-.78.78-.78 2.05 0 2.83L4 21.41c.39.39.9.59 1.41.59.51 0 1.02-.2 1.41-.59l7.78-7.78 2.81-2.81c.8-.78.8-2.07 0-2.86zM5.41 20L4 18.59l7.72-7.72 1.47 1.35L5.41 20z\"/>\n",
              "  </svg>\n",
              "      </button>\n",
              "      \n",
              "  <style>\n",
              "    .colab-df-container {\n",
              "      display:flex;\n",
              "      flex-wrap:wrap;\n",
              "      gap: 12px;\n",
              "    }\n",
              "\n",
              "    .colab-df-convert {\n",
              "      background-color: #E8F0FE;\n",
              "      border: none;\n",
              "      border-radius: 50%;\n",
              "      cursor: pointer;\n",
              "      display: none;\n",
              "      fill: #1967D2;\n",
              "      height: 32px;\n",
              "      padding: 0 0 0 0;\n",
              "      width: 32px;\n",
              "    }\n",
              "\n",
              "    .colab-df-convert:hover {\n",
              "      background-color: #E2EBFA;\n",
              "      box-shadow: 0px 1px 2px rgba(60, 64, 67, 0.3), 0px 1px 3px 1px rgba(60, 64, 67, 0.15);\n",
              "      fill: #174EA6;\n",
              "    }\n",
              "\n",
              "    [theme=dark] .colab-df-convert {\n",
              "      background-color: #3B4455;\n",
              "      fill: #D2E3FC;\n",
              "    }\n",
              "\n",
              "    [theme=dark] .colab-df-convert:hover {\n",
              "      background-color: #434B5C;\n",
              "      box-shadow: 0px 1px 3px 1px rgba(0, 0, 0, 0.15);\n",
              "      filter: drop-shadow(0px 1px 2px rgba(0, 0, 0, 0.3));\n",
              "      fill: #FFFFFF;\n",
              "    }\n",
              "  </style>\n",
              "\n",
              "      <script>\n",
              "        const buttonEl =\n",
              "          document.querySelector('#df-29038a9b-86bd-4604-885d-8e5677ae32c1 button.colab-df-convert');\n",
              "        buttonEl.style.display =\n",
              "          google.colab.kernel.accessAllowed ? 'block' : 'none';\n",
              "\n",
              "        async function convertToInteractive(key) {\n",
              "          const element = document.querySelector('#df-29038a9b-86bd-4604-885d-8e5677ae32c1');\n",
              "          const dataTable =\n",
              "            await google.colab.kernel.invokeFunction('convertToInteractive',\n",
              "                                                     [key], {});\n",
              "          if (!dataTable) return;\n",
              "\n",
              "          const docLinkHtml = 'Like what you see? Visit the ' +\n",
              "            '<a target=\"_blank\" href=https://colab.research.google.com/notebooks/data_table.ipynb>data table notebook</a>'\n",
              "            + ' to learn more about interactive tables.';\n",
              "          element.innerHTML = '';\n",
              "          dataTable['output_type'] = 'display_data';\n",
              "          await google.colab.output.renderOutput(dataTable, element);\n",
              "          const docLink = document.createElement('div');\n",
              "          docLink.innerHTML = docLinkHtml;\n",
              "          element.appendChild(docLink);\n",
              "        }\n",
              "      </script>\n",
              "    </div>\n",
              "  </div>\n",
              "  "
            ],
            "text/plain": [
              "  Manufacturer  Sales_in_thousands  __year_resale_value Vehicle_type  \\\n",
              "0        Acura              16.919               16.360    Passenger   \n",
              "1        Acura              39.384               19.875    Passenger   \n",
              "3        Acura               8.588               29.725    Passenger   \n",
              "4         Audi              20.397               22.255    Passenger   \n",
              "5         Audi              18.780               23.555    Passenger   \n",
              "\n",
              "   Price_in_thousands  Engine_size  Horsepower  Wheelbase  Width  Length  \\\n",
              "0               21.50          1.8       140.0      101.2   67.3   172.4   \n",
              "1               28.40          3.2       225.0      108.1   70.3   192.9   \n",
              "3               42.00          3.5       210.0      114.6   71.4   196.6   \n",
              "4               23.99          1.8       150.0      102.6   68.2   178.0   \n",
              "5               33.95          2.8       200.0      108.7   76.1   192.0   \n",
              "\n",
              "   Curb_weight  Fuel_capacity  Fuel_efficiency  Power_perf_factor  \n",
              "0        2.639           13.2             28.0          58.280150  \n",
              "1        3.517           17.2             25.0          91.370778  \n",
              "3        3.850           18.0             22.0          91.389779  \n",
              "4        2.998           16.4             27.0          62.777639  \n",
              "5        3.561           18.5             22.0          84.565105  "
            ]
          },
          "execution_count": 17,
          "metadata": {},
          "output_type": "execute_result"
        }
      ],
      "source": [
        "# Dropar todas as linhas que tem NaNs na coluna Price in Thousands\n",
        "\n",
        "novo_dataset = alterando_dataset[alterando_dataset['Price_in_thousands'].notna()]\n",
        "novo_dataset.head()"
      ]
    },
    {
      "cell_type": "code",
      "execution_count": 18,
      "metadata": {
        "colab": {
          "base_uri": "https://localhost:8080/",
          "height": 270
        },
        "id": "D6NuE5mH8h9e",
        "outputId": "6b57ac4b-6d0a-4307-961d-6ae0c7145ae3"
      },
      "outputs": [
        {
          "data": {
            "text/html": [
              "\n",
              "  <div id=\"df-091ce9f0-2969-45fd-a6b0-7fd3b836090b\">\n",
              "    <div class=\"colab-df-container\">\n",
              "      <div>\n",
              "<style scoped>\n",
              "    .dataframe tbody tr th:only-of-type {\n",
              "        vertical-align: middle;\n",
              "    }\n",
              "\n",
              "    .dataframe tbody tr th {\n",
              "        vertical-align: top;\n",
              "    }\n",
              "\n",
              "    .dataframe thead th {\n",
              "        text-align: right;\n",
              "    }\n",
              "</style>\n",
              "<table border=\"1\" class=\"dataframe\">\n",
              "  <thead>\n",
              "    <tr style=\"text-align: right;\">\n",
              "      <th></th>\n",
              "      <th>Manufacturer</th>\n",
              "      <th>Sales_in_thousands</th>\n",
              "      <th>__year_resale_value</th>\n",
              "      <th>Vehicle_type</th>\n",
              "      <th>Price_in_thousands</th>\n",
              "      <th>Engine_size</th>\n",
              "      <th>Horsepower</th>\n",
              "      <th>Wheelbase</th>\n",
              "      <th>Width</th>\n",
              "      <th>Length</th>\n",
              "      <th>Curb_weight</th>\n",
              "      <th>Fuel_capacity</th>\n",
              "      <th>Fuel_efficiency</th>\n",
              "      <th>Power_perf_factor</th>\n",
              "    </tr>\n",
              "  </thead>\n",
              "  <tbody>\n",
              "    <tr>\n",
              "      <th>0</th>\n",
              "      <td>Acura</td>\n",
              "      <td>16.919</td>\n",
              "      <td>16.360</td>\n",
              "      <td>Passenger</td>\n",
              "      <td>21.50</td>\n",
              "      <td>1.8</td>\n",
              "      <td>140.0</td>\n",
              "      <td>101.2</td>\n",
              "      <td>67.3</td>\n",
              "      <td>172.4</td>\n",
              "      <td>2.639</td>\n",
              "      <td>13.2</td>\n",
              "      <td>28.0</td>\n",
              "      <td>58.280150</td>\n",
              "    </tr>\n",
              "    <tr>\n",
              "      <th>1</th>\n",
              "      <td>Acura</td>\n",
              "      <td>39.384</td>\n",
              "      <td>19.875</td>\n",
              "      <td>Passenger</td>\n",
              "      <td>28.40</td>\n",
              "      <td>3.2</td>\n",
              "      <td>225.0</td>\n",
              "      <td>108.1</td>\n",
              "      <td>70.3</td>\n",
              "      <td>192.9</td>\n",
              "      <td>3.517</td>\n",
              "      <td>17.2</td>\n",
              "      <td>25.0</td>\n",
              "      <td>91.370778</td>\n",
              "    </tr>\n",
              "    <tr>\n",
              "      <th>3</th>\n",
              "      <td>Acura</td>\n",
              "      <td>8.588</td>\n",
              "      <td>29.725</td>\n",
              "      <td>Passenger</td>\n",
              "      <td>42.00</td>\n",
              "      <td>3.5</td>\n",
              "      <td>210.0</td>\n",
              "      <td>114.6</td>\n",
              "      <td>71.4</td>\n",
              "      <td>196.6</td>\n",
              "      <td>3.850</td>\n",
              "      <td>18.0</td>\n",
              "      <td>22.0</td>\n",
              "      <td>91.389779</td>\n",
              "    </tr>\n",
              "    <tr>\n",
              "      <th>4</th>\n",
              "      <td>Audi</td>\n",
              "      <td>20.397</td>\n",
              "      <td>22.255</td>\n",
              "      <td>Passenger</td>\n",
              "      <td>23.99</td>\n",
              "      <td>1.8</td>\n",
              "      <td>150.0</td>\n",
              "      <td>102.6</td>\n",
              "      <td>68.2</td>\n",
              "      <td>178.0</td>\n",
              "      <td>2.998</td>\n",
              "      <td>16.4</td>\n",
              "      <td>27.0</td>\n",
              "      <td>62.777639</td>\n",
              "    </tr>\n",
              "    <tr>\n",
              "      <th>5</th>\n",
              "      <td>Audi</td>\n",
              "      <td>18.780</td>\n",
              "      <td>23.555</td>\n",
              "      <td>Passenger</td>\n",
              "      <td>33.95</td>\n",
              "      <td>2.8</td>\n",
              "      <td>200.0</td>\n",
              "      <td>108.7</td>\n",
              "      <td>76.1</td>\n",
              "      <td>192.0</td>\n",
              "      <td>3.561</td>\n",
              "      <td>18.5</td>\n",
              "      <td>22.0</td>\n",
              "      <td>84.565105</td>\n",
              "    </tr>\n",
              "  </tbody>\n",
              "</table>\n",
              "</div>\n",
              "      <button class=\"colab-df-convert\" onclick=\"convertToInteractive('df-091ce9f0-2969-45fd-a6b0-7fd3b836090b')\"\n",
              "              title=\"Convert this dataframe to an interactive table.\"\n",
              "              style=\"display:none;\">\n",
              "        \n",
              "  <svg xmlns=\"http://www.w3.org/2000/svg\" height=\"24px\"viewBox=\"0 0 24 24\"\n",
              "       width=\"24px\">\n",
              "    <path d=\"M0 0h24v24H0V0z\" fill=\"none\"/>\n",
              "    <path d=\"M18.56 5.44l.94 2.06.94-2.06 2.06-.94-2.06-.94-.94-2.06-.94 2.06-2.06.94zm-11 1L8.5 8.5l.94-2.06 2.06-.94-2.06-.94L8.5 2.5l-.94 2.06-2.06.94zm10 10l.94 2.06.94-2.06 2.06-.94-2.06-.94-.94-2.06-.94 2.06-2.06.94z\"/><path d=\"M17.41 7.96l-1.37-1.37c-.4-.4-.92-.59-1.43-.59-.52 0-1.04.2-1.43.59L10.3 9.45l-7.72 7.72c-.78.78-.78 2.05 0 2.83L4 21.41c.39.39.9.59 1.41.59.51 0 1.02-.2 1.41-.59l7.78-7.78 2.81-2.81c.8-.78.8-2.07 0-2.86zM5.41 20L4 18.59l7.72-7.72 1.47 1.35L5.41 20z\"/>\n",
              "  </svg>\n",
              "      </button>\n",
              "      \n",
              "  <style>\n",
              "    .colab-df-container {\n",
              "      display:flex;\n",
              "      flex-wrap:wrap;\n",
              "      gap: 12px;\n",
              "    }\n",
              "\n",
              "    .colab-df-convert {\n",
              "      background-color: #E8F0FE;\n",
              "      border: none;\n",
              "      border-radius: 50%;\n",
              "      cursor: pointer;\n",
              "      display: none;\n",
              "      fill: #1967D2;\n",
              "      height: 32px;\n",
              "      padding: 0 0 0 0;\n",
              "      width: 32px;\n",
              "    }\n",
              "\n",
              "    .colab-df-convert:hover {\n",
              "      background-color: #E2EBFA;\n",
              "      box-shadow: 0px 1px 2px rgba(60, 64, 67, 0.3), 0px 1px 3px 1px rgba(60, 64, 67, 0.15);\n",
              "      fill: #174EA6;\n",
              "    }\n",
              "\n",
              "    [theme=dark] .colab-df-convert {\n",
              "      background-color: #3B4455;\n",
              "      fill: #D2E3FC;\n",
              "    }\n",
              "\n",
              "    [theme=dark] .colab-df-convert:hover {\n",
              "      background-color: #434B5C;\n",
              "      box-shadow: 0px 1px 3px 1px rgba(0, 0, 0, 0.15);\n",
              "      filter: drop-shadow(0px 1px 2px rgba(0, 0, 0, 0.3));\n",
              "      fill: #FFFFFF;\n",
              "    }\n",
              "  </style>\n",
              "\n",
              "      <script>\n",
              "        const buttonEl =\n",
              "          document.querySelector('#df-091ce9f0-2969-45fd-a6b0-7fd3b836090b button.colab-df-convert');\n",
              "        buttonEl.style.display =\n",
              "          google.colab.kernel.accessAllowed ? 'block' : 'none';\n",
              "\n",
              "        async function convertToInteractive(key) {\n",
              "          const element = document.querySelector('#df-091ce9f0-2969-45fd-a6b0-7fd3b836090b');\n",
              "          const dataTable =\n",
              "            await google.colab.kernel.invokeFunction('convertToInteractive',\n",
              "                                                     [key], {});\n",
              "          if (!dataTable) return;\n",
              "\n",
              "          const docLinkHtml = 'Like what you see? Visit the ' +\n",
              "            '<a target=\"_blank\" href=https://colab.research.google.com/notebooks/data_table.ipynb>data table notebook</a>'\n",
              "            + ' to learn more about interactive tables.';\n",
              "          element.innerHTML = '';\n",
              "          dataTable['output_type'] = 'display_data';\n",
              "          await google.colab.output.renderOutput(dataTable, element);\n",
              "          const docLink = document.createElement('div');\n",
              "          docLink.innerHTML = docLinkHtml;\n",
              "          element.appendChild(docLink);\n",
              "        }\n",
              "      </script>\n",
              "    </div>\n",
              "  </div>\n",
              "  "
            ],
            "text/plain": [
              "  Manufacturer  Sales_in_thousands  __year_resale_value Vehicle_type  \\\n",
              "0        Acura              16.919               16.360    Passenger   \n",
              "1        Acura              39.384               19.875    Passenger   \n",
              "3        Acura               8.588               29.725    Passenger   \n",
              "4         Audi              20.397               22.255    Passenger   \n",
              "5         Audi              18.780               23.555    Passenger   \n",
              "\n",
              "   Price_in_thousands  Engine_size  Horsepower  Wheelbase  Width  Length  \\\n",
              "0               21.50          1.8       140.0      101.2   67.3   172.4   \n",
              "1               28.40          3.2       225.0      108.1   70.3   192.9   \n",
              "3               42.00          3.5       210.0      114.6   71.4   196.6   \n",
              "4               23.99          1.8       150.0      102.6   68.2   178.0   \n",
              "5               33.95          2.8       200.0      108.7   76.1   192.0   \n",
              "\n",
              "   Curb_weight  Fuel_capacity  Fuel_efficiency  Power_perf_factor  \n",
              "0        2.639           13.2             28.0          58.280150  \n",
              "1        3.517           17.2             25.0          91.370778  \n",
              "3        3.850           18.0             22.0          91.389779  \n",
              "4        2.998           16.4             27.0          62.777639  \n",
              "5        3.561           18.5             22.0          84.565105  "
            ]
          },
          "execution_count": 18,
          "metadata": {},
          "output_type": "execute_result"
        }
      ],
      "source": [
        "## Substituir NaNs das colunas __year_resale_value, Fuel_efficiency, Power_perf_factor com a mediana\n",
        "\n",
        "novo_dataset['__year_resale_value'].fillna(value = novo_dataset['__year_resale_value'].median(), inplace=True)\n",
        "novo_dataset['Fuel_efficiency'].fillna(value = novo_dataset['Fuel_efficiency'].median(), inplace=True)\n",
        "novo_dataset['Power_perf_factor'].fillna(value = novo_dataset['__year_resale_value'].median(), inplace=True)\n",
        "\n",
        "## Substituir NaNs das colunas Curb_Weight with  mean\n",
        "novo_dataset['Curb_weight'].fillna(value = novo_dataset['Curb_weight'].mean(), inplace=True)\n",
        "\n",
        "novo_dataset.head()"
      ]
    },
    {
      "cell_type": "code",
      "execution_count": 19,
      "metadata": {
        "colab": {
          "base_uri": "https://localhost:8080/"
        },
        "id": "idAzIHpfKYBV",
        "outputId": "0bbc6053-f65c-48bf-ae77-ad7048c038d6"
      },
      "outputs": [
        {
          "name": "stdout",
          "output_type": "stream",
          "text": [
            "<class 'pandas.core.frame.DataFrame'>\n",
            "Int64Index: 155 entries, 0 to 156\n",
            "Data columns (total 14 columns):\n",
            " #   Column               Non-Null Count  Dtype  \n",
            "---  ------               --------------  -----  \n",
            " 0   Manufacturer         155 non-null    object \n",
            " 1   Sales_in_thousands   155 non-null    float64\n",
            " 2   __year_resale_value  155 non-null    float64\n",
            " 3   Vehicle_type         155 non-null    object \n",
            " 4   Price_in_thousands   155 non-null    float64\n",
            " 5   Engine_size          155 non-null    float64\n",
            " 6   Horsepower           155 non-null    float64\n",
            " 7   Wheelbase            155 non-null    float64\n",
            " 8   Width                155 non-null    float64\n",
            " 9   Length               155 non-null    float64\n",
            " 10  Curb_weight          155 non-null    float64\n",
            " 11  Fuel_capacity        155 non-null    float64\n",
            " 12  Fuel_efficiency      155 non-null    float64\n",
            " 13  Power_perf_factor    155 non-null    float64\n",
            "dtypes: float64(12), object(2)\n",
            "memory usage: 18.2+ KB\n"
          ]
        }
      ],
      "source": [
        "novo_dataset.info()"
      ]
    },
    {
      "cell_type": "code",
      "execution_count": 20,
      "metadata": {
        "colab": {
          "base_uri": "https://localhost:8080/"
        },
        "id": "naNadyu_NkGt",
        "outputId": "c6a61747-165c-40e4-c274-05f386796354"
      },
      "outputs": [
        {
          "name": "stdout",
          "output_type": "stream",
          "text": [
            "Coluna: __year_resale_value and VIF: 13.19\n",
            "Coluna: Engine_size and VIF: 9007199254740992.0\n",
            "Coluna: Wheelbase and VIF: 885.49\n",
            "Coluna: Length and VIF: 495.93\n",
            "Coluna: Fuel_capacity and VIF: 101.84\n",
            "Coluna: Power_perf_factor and VIF: 515276.15\n"
          ]
        }
      ],
      "source": [
        "## DETECTANDO MULTICOLINEARIDADE COM VIF (Variance Inflation Factor)\n",
        "\n",
        "# Removendo os dados categoricos para calculcar o VIF\n",
        "amostra_dados = novo_dataset.drop(['Sales_in_thousands', 'Manufacturer', 'Vehicle_type'], axis=1)\n",
        "coluna_nomes = list(amostra_dados.columns)\n",
        "\n",
        "for nome in coluna_nomes:\n",
        "  if len(coluna_nomes) >= 2:\n",
        "    Y = amostra_dados.loc[:, amostra_dados.columns == nome]\n",
        "    X = amostra_dados.loc[:, amostra_dados.columns != nome]\n",
        "    modelo_linear = sm.OLS(Y, X)\n",
        "    resultados =  modelo_linear.fit()\n",
        "    r_squared = resultados.rsquared\n",
        "    vif_valor = round(1/(1 - r_squared), 2)\n",
        "    print('Coluna: {} and VIF: {}'.format(nome, vif_valor))\n",
        "    if vif_valor > 10:\n",
        "      amostra_dados = amostra_dados.drop([nome], axis=1)\n",
        "      coluna_nomes.remove(nome)\n",
        "\n",
        "\n",
        "\"\"\"## Se nortamos abaixo, as colunas: \n",
        "__year_resale_value, Engine_size, Wheelbase, Length, Fuel_capacity e Power_perf_factor \n",
        "estão causando no conjunto dos dados a multi_colinearidade, portanto vamos retirar estas colunas do conjunto de dados.\"\"\""
      ]
    },
    {
      "cell_type": "code",
      "execution_count": 21,
      "metadata": {
        "colab": {
          "base_uri": "https://localhost:8080/",
          "height": 206
        },
        "id": "4voKLBIgEMNH",
        "outputId": "f1e4ba12-2bf2-44d0-d23e-5200859ce923"
      },
      "outputs": [
        {
          "data": {
            "text/html": [
              "\n",
              "  <div id=\"df-effee065-e4d8-403d-afc2-60ab4bb1565a\">\n",
              "    <div class=\"colab-df-container\">\n",
              "      <div>\n",
              "<style scoped>\n",
              "    .dataframe tbody tr th:only-of-type {\n",
              "        vertical-align: middle;\n",
              "    }\n",
              "\n",
              "    .dataframe tbody tr th {\n",
              "        vertical-align: top;\n",
              "    }\n",
              "\n",
              "    .dataframe thead th {\n",
              "        text-align: right;\n",
              "    }\n",
              "</style>\n",
              "<table border=\"1\" class=\"dataframe\">\n",
              "  <thead>\n",
              "    <tr style=\"text-align: right;\">\n",
              "      <th></th>\n",
              "      <th>Manufacturer</th>\n",
              "      <th>Sales_in_thousands</th>\n",
              "      <th>Vehicle_type</th>\n",
              "      <th>Price_in_thousands</th>\n",
              "      <th>Horsepower</th>\n",
              "      <th>Width</th>\n",
              "      <th>Curb_weight</th>\n",
              "      <th>Fuel_efficiency</th>\n",
              "    </tr>\n",
              "  </thead>\n",
              "  <tbody>\n",
              "    <tr>\n",
              "      <th>0</th>\n",
              "      <td>Acura</td>\n",
              "      <td>16.919</td>\n",
              "      <td>Passenger</td>\n",
              "      <td>21.50</td>\n",
              "      <td>140.0</td>\n",
              "      <td>67.3</td>\n",
              "      <td>2.639</td>\n",
              "      <td>28.0</td>\n",
              "    </tr>\n",
              "    <tr>\n",
              "      <th>1</th>\n",
              "      <td>Acura</td>\n",
              "      <td>39.384</td>\n",
              "      <td>Passenger</td>\n",
              "      <td>28.40</td>\n",
              "      <td>225.0</td>\n",
              "      <td>70.3</td>\n",
              "      <td>3.517</td>\n",
              "      <td>25.0</td>\n",
              "    </tr>\n",
              "    <tr>\n",
              "      <th>3</th>\n",
              "      <td>Acura</td>\n",
              "      <td>8.588</td>\n",
              "      <td>Passenger</td>\n",
              "      <td>42.00</td>\n",
              "      <td>210.0</td>\n",
              "      <td>71.4</td>\n",
              "      <td>3.850</td>\n",
              "      <td>22.0</td>\n",
              "    </tr>\n",
              "    <tr>\n",
              "      <th>4</th>\n",
              "      <td>Audi</td>\n",
              "      <td>20.397</td>\n",
              "      <td>Passenger</td>\n",
              "      <td>23.99</td>\n",
              "      <td>150.0</td>\n",
              "      <td>68.2</td>\n",
              "      <td>2.998</td>\n",
              "      <td>27.0</td>\n",
              "    </tr>\n",
              "    <tr>\n",
              "      <th>5</th>\n",
              "      <td>Audi</td>\n",
              "      <td>18.780</td>\n",
              "      <td>Passenger</td>\n",
              "      <td>33.95</td>\n",
              "      <td>200.0</td>\n",
              "      <td>76.1</td>\n",
              "      <td>3.561</td>\n",
              "      <td>22.0</td>\n",
              "    </tr>\n",
              "  </tbody>\n",
              "</table>\n",
              "</div>\n",
              "      <button class=\"colab-df-convert\" onclick=\"convertToInteractive('df-effee065-e4d8-403d-afc2-60ab4bb1565a')\"\n",
              "              title=\"Convert this dataframe to an interactive table.\"\n",
              "              style=\"display:none;\">\n",
              "        \n",
              "  <svg xmlns=\"http://www.w3.org/2000/svg\" height=\"24px\"viewBox=\"0 0 24 24\"\n",
              "       width=\"24px\">\n",
              "    <path d=\"M0 0h24v24H0V0z\" fill=\"none\"/>\n",
              "    <path d=\"M18.56 5.44l.94 2.06.94-2.06 2.06-.94-2.06-.94-.94-2.06-.94 2.06-2.06.94zm-11 1L8.5 8.5l.94-2.06 2.06-.94-2.06-.94L8.5 2.5l-.94 2.06-2.06.94zm10 10l.94 2.06.94-2.06 2.06-.94-2.06-.94-.94-2.06-.94 2.06-2.06.94z\"/><path d=\"M17.41 7.96l-1.37-1.37c-.4-.4-.92-.59-1.43-.59-.52 0-1.04.2-1.43.59L10.3 9.45l-7.72 7.72c-.78.78-.78 2.05 0 2.83L4 21.41c.39.39.9.59 1.41.59.51 0 1.02-.2 1.41-.59l7.78-7.78 2.81-2.81c.8-.78.8-2.07 0-2.86zM5.41 20L4 18.59l7.72-7.72 1.47 1.35L5.41 20z\"/>\n",
              "  </svg>\n",
              "      </button>\n",
              "      \n",
              "  <style>\n",
              "    .colab-df-container {\n",
              "      display:flex;\n",
              "      flex-wrap:wrap;\n",
              "      gap: 12px;\n",
              "    }\n",
              "\n",
              "    .colab-df-convert {\n",
              "      background-color: #E8F0FE;\n",
              "      border: none;\n",
              "      border-radius: 50%;\n",
              "      cursor: pointer;\n",
              "      display: none;\n",
              "      fill: #1967D2;\n",
              "      height: 32px;\n",
              "      padding: 0 0 0 0;\n",
              "      width: 32px;\n",
              "    }\n",
              "\n",
              "    .colab-df-convert:hover {\n",
              "      background-color: #E2EBFA;\n",
              "      box-shadow: 0px 1px 2px rgba(60, 64, 67, 0.3), 0px 1px 3px 1px rgba(60, 64, 67, 0.15);\n",
              "      fill: #174EA6;\n",
              "    }\n",
              "\n",
              "    [theme=dark] .colab-df-convert {\n",
              "      background-color: #3B4455;\n",
              "      fill: #D2E3FC;\n",
              "    }\n",
              "\n",
              "    [theme=dark] .colab-df-convert:hover {\n",
              "      background-color: #434B5C;\n",
              "      box-shadow: 0px 1px 3px 1px rgba(0, 0, 0, 0.15);\n",
              "      filter: drop-shadow(0px 1px 2px rgba(0, 0, 0, 0.3));\n",
              "      fill: #FFFFFF;\n",
              "    }\n",
              "  </style>\n",
              "\n",
              "      <script>\n",
              "        const buttonEl =\n",
              "          document.querySelector('#df-effee065-e4d8-403d-afc2-60ab4bb1565a button.colab-df-convert');\n",
              "        buttonEl.style.display =\n",
              "          google.colab.kernel.accessAllowed ? 'block' : 'none';\n",
              "\n",
              "        async function convertToInteractive(key) {\n",
              "          const element = document.querySelector('#df-effee065-e4d8-403d-afc2-60ab4bb1565a');\n",
              "          const dataTable =\n",
              "            await google.colab.kernel.invokeFunction('convertToInteractive',\n",
              "                                                     [key], {});\n",
              "          if (!dataTable) return;\n",
              "\n",
              "          const docLinkHtml = 'Like what you see? Visit the ' +\n",
              "            '<a target=\"_blank\" href=https://colab.research.google.com/notebooks/data_table.ipynb>data table notebook</a>'\n",
              "            + ' to learn more about interactive tables.';\n",
              "          element.innerHTML = '';\n",
              "          dataTable['output_type'] = 'display_data';\n",
              "          await google.colab.output.renderOutput(dataTable, element);\n",
              "          const docLink = document.createElement('div');\n",
              "          docLink.innerHTML = docLinkHtml;\n",
              "          element.appendChild(docLink);\n",
              "        }\n",
              "      </script>\n",
              "    </div>\n",
              "  </div>\n",
              "  "
            ],
            "text/plain": [
              "  Manufacturer  Sales_in_thousands Vehicle_type  Price_in_thousands  \\\n",
              "0        Acura              16.919    Passenger               21.50   \n",
              "1        Acura              39.384    Passenger               28.40   \n",
              "3        Acura               8.588    Passenger               42.00   \n",
              "4         Audi              20.397    Passenger               23.99   \n",
              "5         Audi              18.780    Passenger               33.95   \n",
              "\n",
              "   Horsepower  Width  Curb_weight  Fuel_efficiency  \n",
              "0       140.0   67.3        2.639             28.0  \n",
              "1       225.0   70.3        3.517             25.0  \n",
              "3       210.0   71.4        3.850             22.0  \n",
              "4       150.0   68.2        2.998             27.0  \n",
              "5       200.0   76.1        3.561             22.0  "
            ]
          },
          "execution_count": 21,
          "metadata": {},
          "output_type": "execute_result"
        }
      ],
      "source": [
        "# Dropando as colunas que estão causando mult-colinearidade\n",
        "dataset_final = novo_dataset.drop(['__year_resale_value', 'Engine_size', 'Wheelbase', 'Length', 'Fuel_capacity', 'Power_perf_factor'], axis=1)\n",
        "dataset_final.head()"
      ]
    },
    {
      "cell_type": "code",
      "execution_count": 22,
      "metadata": {
        "colab": {
          "base_uri": "https://localhost:8080/",
          "height": 206
        },
        "id": "CcxZbCmdEMP6",
        "outputId": "c343c67b-ef23-482b-c6da-8119bb20e4ee"
      },
      "outputs": [
        {
          "data": {
            "text/html": [
              "\n",
              "  <div id=\"df-43eff98c-7a73-4f31-b753-27bc256d3a91\">\n",
              "    <div class=\"colab-df-container\">\n",
              "      <div>\n",
              "<style scoped>\n",
              "    .dataframe tbody tr th:only-of-type {\n",
              "        vertical-align: middle;\n",
              "    }\n",
              "\n",
              "    .dataframe tbody tr th {\n",
              "        vertical-align: top;\n",
              "    }\n",
              "\n",
              "    .dataframe thead th {\n",
              "        text-align: right;\n",
              "    }\n",
              "</style>\n",
              "<table border=\"1\" class=\"dataframe\">\n",
              "  <thead>\n",
              "    <tr style=\"text-align: right;\">\n",
              "      <th></th>\n",
              "      <th>Manufacturer</th>\n",
              "      <th>Sales_in_thousands</th>\n",
              "      <th>Vehicle_type</th>\n",
              "      <th>Price_in_thousands</th>\n",
              "      <th>Horsepower</th>\n",
              "      <th>Width</th>\n",
              "      <th>Curb_weight</th>\n",
              "      <th>Fuel_efficiency</th>\n",
              "    </tr>\n",
              "  </thead>\n",
              "  <tbody>\n",
              "    <tr>\n",
              "      <th>0</th>\n",
              "      <td>1</td>\n",
              "      <td>16.919</td>\n",
              "      <td>Passenger</td>\n",
              "      <td>21.50</td>\n",
              "      <td>140.0</td>\n",
              "      <td>67.3</td>\n",
              "      <td>2.639</td>\n",
              "      <td>28.0</td>\n",
              "    </tr>\n",
              "    <tr>\n",
              "      <th>1</th>\n",
              "      <td>1</td>\n",
              "      <td>39.384</td>\n",
              "      <td>Passenger</td>\n",
              "      <td>28.40</td>\n",
              "      <td>225.0</td>\n",
              "      <td>70.3</td>\n",
              "      <td>3.517</td>\n",
              "      <td>25.0</td>\n",
              "    </tr>\n",
              "    <tr>\n",
              "      <th>3</th>\n",
              "      <td>1</td>\n",
              "      <td>8.588</td>\n",
              "      <td>Passenger</td>\n",
              "      <td>42.00</td>\n",
              "      <td>210.0</td>\n",
              "      <td>71.4</td>\n",
              "      <td>3.850</td>\n",
              "      <td>22.0</td>\n",
              "    </tr>\n",
              "    <tr>\n",
              "      <th>4</th>\n",
              "      <td>1</td>\n",
              "      <td>20.397</td>\n",
              "      <td>Passenger</td>\n",
              "      <td>23.99</td>\n",
              "      <td>150.0</td>\n",
              "      <td>68.2</td>\n",
              "      <td>2.998</td>\n",
              "      <td>27.0</td>\n",
              "    </tr>\n",
              "    <tr>\n",
              "      <th>5</th>\n",
              "      <td>1</td>\n",
              "      <td>18.780</td>\n",
              "      <td>Passenger</td>\n",
              "      <td>33.95</td>\n",
              "      <td>200.0</td>\n",
              "      <td>76.1</td>\n",
              "      <td>3.561</td>\n",
              "      <td>22.0</td>\n",
              "    </tr>\n",
              "  </tbody>\n",
              "</table>\n",
              "</div>\n",
              "      <button class=\"colab-df-convert\" onclick=\"convertToInteractive('df-43eff98c-7a73-4f31-b753-27bc256d3a91')\"\n",
              "              title=\"Convert this dataframe to an interactive table.\"\n",
              "              style=\"display:none;\">\n",
              "        \n",
              "  <svg xmlns=\"http://www.w3.org/2000/svg\" height=\"24px\"viewBox=\"0 0 24 24\"\n",
              "       width=\"24px\">\n",
              "    <path d=\"M0 0h24v24H0V0z\" fill=\"none\"/>\n",
              "    <path d=\"M18.56 5.44l.94 2.06.94-2.06 2.06-.94-2.06-.94-.94-2.06-.94 2.06-2.06.94zm-11 1L8.5 8.5l.94-2.06 2.06-.94-2.06-.94L8.5 2.5l-.94 2.06-2.06.94zm10 10l.94 2.06.94-2.06 2.06-.94-2.06-.94-.94-2.06-.94 2.06-2.06.94z\"/><path d=\"M17.41 7.96l-1.37-1.37c-.4-.4-.92-.59-1.43-.59-.52 0-1.04.2-1.43.59L10.3 9.45l-7.72 7.72c-.78.78-.78 2.05 0 2.83L4 21.41c.39.39.9.59 1.41.59.51 0 1.02-.2 1.41-.59l7.78-7.78 2.81-2.81c.8-.78.8-2.07 0-2.86zM5.41 20L4 18.59l7.72-7.72 1.47 1.35L5.41 20z\"/>\n",
              "  </svg>\n",
              "      </button>\n",
              "      \n",
              "  <style>\n",
              "    .colab-df-container {\n",
              "      display:flex;\n",
              "      flex-wrap:wrap;\n",
              "      gap: 12px;\n",
              "    }\n",
              "\n",
              "    .colab-df-convert {\n",
              "      background-color: #E8F0FE;\n",
              "      border: none;\n",
              "      border-radius: 50%;\n",
              "      cursor: pointer;\n",
              "      display: none;\n",
              "      fill: #1967D2;\n",
              "      height: 32px;\n",
              "      padding: 0 0 0 0;\n",
              "      width: 32px;\n",
              "    }\n",
              "\n",
              "    .colab-df-convert:hover {\n",
              "      background-color: #E2EBFA;\n",
              "      box-shadow: 0px 1px 2px rgba(60, 64, 67, 0.3), 0px 1px 3px 1px rgba(60, 64, 67, 0.15);\n",
              "      fill: #174EA6;\n",
              "    }\n",
              "\n",
              "    [theme=dark] .colab-df-convert {\n",
              "      background-color: #3B4455;\n",
              "      fill: #D2E3FC;\n",
              "    }\n",
              "\n",
              "    [theme=dark] .colab-df-convert:hover {\n",
              "      background-color: #434B5C;\n",
              "      box-shadow: 0px 1px 3px 1px rgba(0, 0, 0, 0.15);\n",
              "      filter: drop-shadow(0px 1px 2px rgba(0, 0, 0, 0.3));\n",
              "      fill: #FFFFFF;\n",
              "    }\n",
              "  </style>\n",
              "\n",
              "      <script>\n",
              "        const buttonEl =\n",
              "          document.querySelector('#df-43eff98c-7a73-4f31-b753-27bc256d3a91 button.colab-df-convert');\n",
              "        buttonEl.style.display =\n",
              "          google.colab.kernel.accessAllowed ? 'block' : 'none';\n",
              "\n",
              "        async function convertToInteractive(key) {\n",
              "          const element = document.querySelector('#df-43eff98c-7a73-4f31-b753-27bc256d3a91');\n",
              "          const dataTable =\n",
              "            await google.colab.kernel.invokeFunction('convertToInteractive',\n",
              "                                                     [key], {});\n",
              "          if (!dataTable) return;\n",
              "\n",
              "          const docLinkHtml = 'Like what you see? Visit the ' +\n",
              "            '<a target=\"_blank\" href=https://colab.research.google.com/notebooks/data_table.ipynb>data table notebook</a>'\n",
              "            + ' to learn more about interactive tables.';\n",
              "          element.innerHTML = '';\n",
              "          dataTable['output_type'] = 'display_data';\n",
              "          await google.colab.output.renderOutput(dataTable, element);\n",
              "          const docLink = document.createElement('div');\n",
              "          docLink.innerHTML = docLinkHtml;\n",
              "          element.appendChild(docLink);\n",
              "        }\n",
              "      </script>\n",
              "    </div>\n",
              "  </div>\n",
              "  "
            ],
            "text/plain": [
              "   Manufacturer  Sales_in_thousands Vehicle_type  Price_in_thousands  \\\n",
              "0             1              16.919    Passenger               21.50   \n",
              "1             1              39.384    Passenger               28.40   \n",
              "3             1               8.588    Passenger               42.00   \n",
              "4             1              20.397    Passenger               23.99   \n",
              "5             1              18.780    Passenger               33.95   \n",
              "\n",
              "   Horsepower  Width  Curb_weight  Fuel_efficiency  \n",
              "0       140.0   67.3        2.639             28.0  \n",
              "1       225.0   70.3        3.517             25.0  \n",
              "3       210.0   71.4        3.850             22.0  \n",
              "4       150.0   68.2        2.998             27.0  \n",
              "5       200.0   76.1        3.561             22.0  "
            ]
          },
          "execution_count": 22,
          "metadata": {},
          "output_type": "execute_result"
        }
      ],
      "source": [
        "# Codificando a variavel categorica - Manufacturer\n",
        "\"\"\" Se a média de vendas do fabricante for menor que 72, \n",
        "será chamado de classe 1, se for maior que 72, será chamado de classe 2\n",
        "\"\"\" \n",
        "manufacturers = []\n",
        "for each_manufacturer in dataset_final['Manufacturer']:\n",
        "  if sorted_manufacturers[each_manufacturer] > 72:\n",
        "    manufacturers.append(2)\n",
        "  else:\n",
        "    manufacturers.append(1)\n",
        "dataset_final['Manufacturer'] = manufacturers\n",
        "dataset_final.head()"
      ]
    },
    {
      "cell_type": "markdown",
      "metadata": {
        "id": "NmlES1LWn5gR"
      },
      "source": [
        "### 3.1 Dividindo o dataset em variáveis dependente e independentes."
      ]
    },
    {
      "cell_type": "code",
      "execution_count": 23,
      "metadata": {
        "id": "0BS8IAtMEMUd"
      },
      "outputs": [],
      "source": [
        "X = dataset_final.iloc[:, [0, 1, 2, 4, 5, 6, 7]].values\n",
        "Y = dataset_final.iloc[:, 3:4].values"
      ]
    },
    {
      "cell_type": "code",
      "execution_count": 24,
      "metadata": {
        "colab": {
          "base_uri": "https://localhost:8080/"
        },
        "id": "2Nqr-PvsQKM_",
        "outputId": "d0877009-c2cc-427f-f047-e0d47c24f3be"
      },
      "outputs": [
        {
          "name": "stdout",
          "output_type": "stream",
          "text": [
            "[1 16.919 'Passenger' 140.0 67.3 2.639 28.0]\n"
          ]
        }
      ],
      "source": [
        "print(X[0])"
      ]
    },
    {
      "cell_type": "code",
      "execution_count": 25,
      "metadata": {
        "colab": {
          "base_uri": "https://localhost:8080/"
        },
        "id": "0-lxAY24QKPa",
        "outputId": "140a83f0-4bf1-4142-ad1e-c28a767bb0e7"
      },
      "outputs": [
        {
          "name": "stdout",
          "output_type": "stream",
          "text": [
            "[[21.5 ]\n",
            " [28.4 ]\n",
            " [42.  ]\n",
            " [23.99]\n",
            " [33.95]]\n"
          ]
        }
      ],
      "source": [
        "print(Y[:5])"
      ]
    },
    {
      "cell_type": "markdown",
      "metadata": {
        "id": "1zL-8p5QSBRL"
      },
      "source": [
        "### 3.2 Codificação da variável categórica - Tipo de veículo usando OneHotEncoding"
      ]
    },
    {
      "cell_type": "code",
      "execution_count": 26,
      "metadata": {
        "colab": {
          "base_uri": "https://localhost:8080/"
        },
        "id": "urAVa8OaQKVS",
        "outputId": "db6f40b8-276b-4811-bd6a-955197f0c2f0"
      },
      "outputs": [
        {
          "name": "stdout",
          "output_type": "stream",
          "text": [
            "[0.0 1.0 1 16.919 140.0 67.3 2.639 28.0]\n"
          ]
        }
      ],
      "source": [
        "columnTransformer = ColumnTransformer(transformers = [('encoder', OneHotEncoder(), [2])], remainder = 'passthrough')\n",
        "X = np.array(columnTransformer.fit_transform(X))\n",
        "print(X[0])"
      ]
    },
    {
      "cell_type": "markdown",
      "metadata": {
        "id": "WXoq0N0LWKtH"
      },
      "source": [
        "### 3.3 Dividir os dados de teste e treino"
      ]
    },
    {
      "cell_type": "code",
      "execution_count": 27,
      "metadata": {
        "id": "TYVpWhM5WKOT"
      },
      "outputs": [],
      "source": [
        "X_train, X_test, Y_train, Y_test = train_test_split(X, Y, test_size = 0.2, random_state = 42)"
      ]
    },
    {
      "cell_type": "markdown",
      "metadata": {
        "id": "dTanW8PYV2N7"
      },
      "source": [
        "### 3.4 Dimensionar os dados usando o StandardScaler"
      ]
    },
    {
      "cell_type": "code",
      "execution_count": 29,
      "metadata": {
        "id": "3S_3P9KUUUKe"
      },
      "outputs": [],
      "source": [
        "standardScaler = StandardScaler()\n",
        "X_train[:, 3:] = standardScaler.fit_transform(X_train[:, 3:])\n",
        "X_test[:, 3:] = standardScaler.transform(X_test[:, 3:])\n"
      ]
    },
    {
      "cell_type": "code",
      "execution_count": 30,
      "metadata": {
        "colab": {
          "base_uri": "https://localhost:8080/"
        },
        "id": "eMx-E_ljZEtJ",
        "outputId": "faa72a3e-8371-413f-ad7e-b8f51c3f8dc7"
      },
      "outputs": [
        {
          "name": "stdout",
          "output_type": "stream",
          "text": [
            "[0.0 1.0 1 -0.5971544980976075 0.4855529689932659 -0.9682209785808613\n",
            " -0.30414594743793366 0.5376925814044157]\n"
          ]
        }
      ],
      "source": [
        "print(X_train[0])"
      ]
    },
    {
      "cell_type": "code",
      "execution_count": 31,
      "metadata": {
        "colab": {
          "base_uri": "https://localhost:8080/"
        },
        "id": "X6_ELLpOXXBV",
        "outputId": "5be7b006-5cca-4eec-8495-8d73e2f4df82"
      },
      "outputs": [
        {
          "name": "stdout",
          "output_type": "stream",
          "text": [
            "[0.0 1.0 1 -0.754444977827755 -0.44099666918824076 0.33492495389324445\n",
            " -0.4342962026825829 -0.607906732928016]\n"
          ]
        }
      ],
      "source": [
        "print(X_test[0])"
      ]
    },
    {
      "cell_type": "markdown",
      "metadata": {
        "id": "IHjugaN7hsGU"
      },
      "source": [
        "# 4.0 Construção dos Modelos"
      ]
    },
    {
      "cell_type": "code",
      "execution_count": 32,
      "metadata": {
        "id": "lxQevAePhvVV"
      },
      "outputs": [],
      "source": [
        "# Importando as Biblíotecas\n",
        "from sklearn.metrics import r2_score\n",
        "from sklearn.linear_model import LinearRegression\n",
        "from sklearn.svm import SVR\n",
        "from sklearn.tree import DecisionTreeRegressor\n",
        "from sklearn.ensemble import RandomForestRegressor\n",
        "from sklearn.linear_model import Ridge\n",
        "from sklearn.linear_model import Lasso\n",
        "from sklearn.model_selection import GridSearchCV"
      ]
    },
    {
      "cell_type": "markdown",
      "metadata": {
        "id": "zXTGm5Uyi2Ia"
      },
      "source": [
        "### 4.1 Aplicando o Modelo de Regressão Linear"
      ]
    },
    {
      "cell_type": "code",
      "execution_count": 62,
      "metadata": {
        "id": "4pdfPYXHhvXr"
      },
      "outputs": [],
      "source": [
        "## Treinando o modelo\n",
        "rl = LinearRegression().fit(X_train, Y_train)"
      ]
    },
    {
      "cell_type": "code",
      "execution_count": 63,
      "metadata": {
        "colab": {
          "base_uri": "https://localhost:8080/"
        },
        "id": "9acnL9JZhvaZ",
        "outputId": "6c9c37ff-4010-4202-e7a1-9db9106edcd3"
      },
      "outputs": [
        {
          "name": "stdout",
          "output_type": "stream",
          "text": [
            "[[20.76 25.45]\n",
            " [37.93 51.73]\n",
            " [40.11 28.34]\n",
            " [28.75 22.25]\n",
            " [28.88 25.31]\n",
            " [ 9.09  9.7 ]\n",
            " [56.31 82.6 ]\n",
            " [13.94 17.5 ]\n",
            " [39.92 45.5 ]\n",
            " [34.1  31.5 ]\n",
            " [37.86 26.31]\n",
            " [15.7  11.53]\n",
            " [21.53 19.05]\n",
            " [30.97 43.33]\n",
            " [45.04 39.66]\n",
            " [24.19 16.54]\n",
            " [15.32 16.48]\n",
            " [31.55 31.75]\n",
            " [24.46 19.72]\n",
            " [16.4  16.88]\n",
            " [12.43 13.26]\n",
            " [30.8  27.89]\n",
            " [24.11 21.98]\n",
            " [15.03 13.96]\n",
            " [38.4  37.8 ]\n",
            " [18.31 15.01]\n",
            " [30.48 41.  ]\n",
            " [24.48 21.56]\n",
            " [19.5  19.04]\n",
            " [15.34 16.24]\n",
            " [30.11 26.1 ]]\n"
          ]
        }
      ],
      "source": [
        "## prevendo os resultados\n",
        "Y_pred = rl.predict(X_test)\n",
        "np.set_printoptions(precision = 2)\n",
        "print(np.concatenate((Y_pred.reshape(len(Y_pred), 1), Y_test.reshape(len(Y_test), 1)), axis = 1))\n"
      ]
    },
    {
      "cell_type": "markdown",
      "metadata": {
        "id": "OKSCZWhkl9j_"
      },
      "source": [
        "#### 4.1.0 Calculando o valor do R-squared do modelo"
      ]
    },
    {
      "cell_type": "code",
      "execution_count": 35,
      "metadata": {
        "colab": {
          "base_uri": "https://localhost:8080/"
        },
        "id": "GIbxwOPQhvc_",
        "outputId": "831f8620-f8db-4502-8d86-336a1fdbc91e"
      },
      "outputs": [
        {
          "data": {
            "text/plain": [
              "0.7401526627598903"
            ]
          },
          "execution_count": 35,
          "metadata": {},
          "output_type": "execute_result"
        }
      ],
      "source": [
        "## Calculando o R-Squared\n",
        "r2_rl = r2_score(Y_test, Y_pred)\n",
        "r2_rl"
      ]
    },
    {
      "cell_type": "markdown",
      "metadata": {
        "id": "osTuUbw7mV1j"
      },
      "source": [
        "### 4.2 Aplicação de regressão vectorial"
      ]
    },
    {
      "cell_type": "code",
      "execution_count": 36,
      "metadata": {
        "colab": {
          "base_uri": "https://localhost:8080/"
        },
        "id": "0UhX2-F8hvfu",
        "outputId": "29a1efab-e5e7-4f06-b2ff-c1f631636c59"
      },
      "outputs": [
        {
          "data": {
            "text/plain": [
              "SVR()"
            ]
          },
          "execution_count": 36,
          "metadata": {},
          "output_type": "execute_result"
        }
      ],
      "source": [
        "# Treinando o modelo\n",
        "vector_regr = SVR(kernel = 'rbf')\n",
        "vector_regr.fit(X_train, Y_train)"
      ]
    },
    {
      "cell_type": "code",
      "execution_count": 37,
      "metadata": {
        "colab": {
          "base_uri": "https://localhost:8080/"
        },
        "id": "9W_9DanQXXDs",
        "outputId": "394ae06a-86da-4217-ff02-a0fdef4b99bb"
      },
      "outputs": [
        {
          "name": "stdout",
          "output_type": "stream",
          "text": [
            "[[24.22 25.45]\n",
            " [27.08 51.73]\n",
            " [31.43 28.34]\n",
            " [25.05 22.25]\n",
            " [26.03 25.31]\n",
            " [15.16  9.7 ]\n",
            " [34.52 82.6 ]\n",
            " [18.1  17.5 ]\n",
            " [31.96 45.5 ]\n",
            " [28.73 31.5 ]\n",
            " [27.13 26.31]\n",
            " [17.92 11.53]\n",
            " [20.87 19.05]\n",
            " [26.89 43.33]\n",
            " [32.54 39.66]\n",
            " [19.62 16.54]\n",
            " [17.84 16.48]\n",
            " [24.76 31.75]\n",
            " [20.02 19.72]\n",
            " [15.46 16.88]\n",
            " [15.59 13.26]\n",
            " [25.19 27.89]\n",
            " [21.82 21.98]\n",
            " [15.42 13.96]\n",
            " [31.22 37.8 ]\n",
            " [17.46 15.01]\n",
            " [23.27 41.  ]\n",
            " [20.88 21.56]\n",
            " [21.35 19.04]\n",
            " [17.26 16.24]\n",
            " [25.06 26.1 ]]\n"
          ]
        }
      ],
      "source": [
        "### prevendo os resultados\n",
        "\n",
        "Y_pred = vector_regr.predict(X_test)\n",
        "np.set_printoptions(precision = 2)\n",
        "print(np.concatenate((Y_pred.reshape(len(Y_pred), 1), Y_test.reshape(len(Y_test), 1)), axis = 1))"
      ]
    },
    {
      "cell_type": "markdown",
      "metadata": {
        "id": "XizeJMK_8OI6"
      },
      "source": [
        "#### 4.2.0 Calculando o valor do R-squared do modelo"
      ]
    },
    {
      "cell_type": "code",
      "execution_count": 38,
      "metadata": {
        "colab": {
          "base_uri": "https://localhost:8080/"
        },
        "id": "IWq8olVhnKck",
        "outputId": "209e660a-4450-4cd3-b5be-fa43ef738858"
      },
      "outputs": [
        {
          "data": {
            "text/plain": [
              "0.40370238764441324"
            ]
          },
          "execution_count": 38,
          "metadata": {},
          "output_type": "execute_result"
        }
      ],
      "source": [
        "## Calculando o R-Squared\n",
        "r2_vector_regr = r2_score(Y_test, Y_pred)\n",
        "r2_vector_regr"
      ]
    },
    {
      "cell_type": "markdown",
      "metadata": {
        "id": "Xx8HA8ennIxT"
      },
      "source": [
        "### 4.3 Aplicando a arvore de decisão"
      ]
    },
    {
      "cell_type": "code",
      "execution_count": 65,
      "metadata": {
        "colab": {
          "base_uri": "https://localhost:8080/"
        },
        "id": "NSgGD1T_nI9_",
        "outputId": "aef36c62-62f7-4b41-c007-3bb23eb72a13"
      },
      "outputs": [
        {
          "data": {
            "text/plain": [
              "DecisionTreeRegressor(random_state=0)"
            ]
          },
          "execution_count": 65,
          "metadata": {},
          "output_type": "execute_result"
        }
      ],
      "source": [
        "## Treinando o modelo\n",
        "\n",
        "decis_tree_regressor = DecisionTreeRegressor(random_state = 0)\n",
        "decis_tree_regressor.fit(X_train, Y_train)"
      ]
    },
    {
      "cell_type": "code",
      "execution_count": 66,
      "metadata": {
        "colab": {
          "base_uri": "https://localhost:8080/"
        },
        "id": "XXB33wOznJEF",
        "outputId": "b3d7e63c-d9a6-40ae-d7df-00eb27874eea"
      },
      "outputs": [
        {
          "name": "stdout",
          "output_type": "stream",
          "text": [
            "[[18.14 25.45]\n",
            " [60.1  51.73]\n",
            " [42.8  28.34]\n",
            " [23.75 22.25]\n",
            " [36.   25.31]\n",
            " [13.99  9.7 ]\n",
            " [46.3  82.6 ]\n",
            " [14.9  17.5 ]\n",
            " [43.   45.5 ]\n",
            " [27.56 31.5 ]\n",
            " [19.46 26.31]\n",
            " [12.64 11.53]\n",
            " [20.39 19.05]\n",
            " [25.3  43.33]\n",
            " [39.08 39.66]\n",
            " [17.04 16.54]\n",
            " [15.35 16.48]\n",
            " [33.4  31.75]\n",
            " [18.27 19.72]\n",
            " [12.64 16.88]\n",
            " [15.9  13.26]\n",
            " [22.61 27.89]\n",
            " [19.39 21.98]\n",
            " [12.64 13.96]\n",
            " [42.8  37.8 ]\n",
            " [16.54 15.01]\n",
            " [38.9  41.  ]\n",
            " [22.5  21.56]\n",
            " [18.85 19.04]\n",
            " [14.9  16.24]\n",
            " [31.6  26.1 ]]\n"
          ]
        }
      ],
      "source": [
        "## prevendo os resultados\n",
        "Y_pred = decis_tree_regressor.predict(X_test)\n",
        "np.set_printoptions(precision = 2)\n",
        "print(np.concatenate((Y_pred.reshape(len(Y_pred), 1), Y_test.reshape(len(Y_test), 1)), axis = 1))\n"
      ]
    },
    {
      "cell_type": "markdown",
      "metadata": {
        "id": "G1rYqC_L8jP-"
      },
      "source": [
        "#### 4.3.0 Calculando o valor do R-squared do modelo"
      ]
    },
    {
      "cell_type": "code",
      "execution_count": 67,
      "metadata": {
        "colab": {
          "base_uri": "https://localhost:8080/"
        },
        "id": "ssvhZaCAnJGf",
        "outputId": "c9b6aa75-2569-4a9c-bdf3-76313a938505"
      },
      "outputs": [
        {
          "data": {
            "text/plain": [
              "0.6516960439893903"
            ]
          },
          "execution_count": 67,
          "metadata": {},
          "output_type": "execute_result"
        }
      ],
      "source": [
        "## Calculando o R-squared\n",
        "r2_dtree_regressor = r2_score(Y_test, Y_pred)\n",
        "r2_dtree_regressor"
      ]
    },
    {
      "cell_type": "markdown",
      "metadata": {
        "id": "nXqfFYYJTDw4"
      },
      "source": [
        "## 4.4 Aplicação de Regressão Florestal Aleatória no conjunto de dados"
      ]
    },
    {
      "cell_type": "code",
      "execution_count": 81,
      "metadata": {
        "colab": {
          "base_uri": "https://localhost:8080/"
        },
        "id": "19Bcle0enJJL",
        "outputId": "f8c4bc9b-80e3-4d5c-9b46-f0a75f1b33a2"
      },
      "outputs": [
        {
          "data": {
            "text/plain": [
              "RandomForestRegressor(n_estimators=10, random_state=0)"
            ]
          },
          "execution_count": 81,
          "metadata": {},
          "output_type": "execute_result"
        }
      ],
      "source": [
        "## Treinando o modelo\n",
        "rand_forest_regressor = RandomForestRegressor(n_estimators = 10, random_state = 0 )\n",
        "rand_forest_regressor.fit(X_train, Y_train)"
      ]
    },
    {
      "cell_type": "code",
      "execution_count": 82,
      "metadata": {
        "colab": {
          "base_uri": "https://localhost:8080/"
        },
        "id": "9e-iVhBzTRy4",
        "outputId": "b2b9036d-3e4e-468f-ee75-c4bc9d92f4ae"
      },
      "outputs": [
        {
          "name": "stdout",
          "output_type": "stream",
          "text": [
            "[[26.22 25.45]\n",
            " [45.77 51.73]\n",
            " [40.36 28.34]\n",
            " [25.41 22.25]\n",
            " [29.27 25.31]\n",
            " [11.41  9.7 ]\n",
            " [62.69 82.6 ]\n",
            " [16.98 17.5 ]\n",
            " [38.03 45.5 ]\n",
            " [31.2  31.5 ]\n",
            " [28.77 26.31]\n",
            " [13.87 11.53]\n",
            " [19.4  19.05]\n",
            " [27.25 43.33]\n",
            " [42.81 39.66]\n",
            " [21.44 16.54]\n",
            " [15.77 16.48]\n",
            " [32.77 31.75]\n",
            " [21.18 19.72]\n",
            " [14.49 16.88]\n",
            " [14.92 13.26]\n",
            " [22.61 27.89]\n",
            " [19.27 21.98]\n",
            " [12.74 13.96]\n",
            " [40.04 37.8 ]\n",
            " [17.03 15.01]\n",
            " [29.41 41.  ]\n",
            " [21.97 21.56]\n",
            " [19.01 19.04]\n",
            " [17.09 16.24]\n",
            " [32.25 26.1 ]]\n"
          ]
        }
      ],
      "source": [
        "## prevendo os resultados\n",
        "Y_pred = rand_forest_regressor.predict(X_test)\n",
        "np.set_printoptions(precision = 2)\n",
        "print(np.concatenate((Y_pred.reshape(len(Y_pred), 1), Y_test.reshape(len(Y_test), 1)), axis = 1))"
      ]
    },
    {
      "cell_type": "markdown",
      "metadata": {
        "id": "rP_1Ud-_8qfN"
      },
      "source": [
        "#### 4.4.0 Calculando o valor do R-squared do modelo"
      ]
    },
    {
      "cell_type": "code",
      "execution_count": 83,
      "metadata": {
        "colab": {
          "base_uri": "https://localhost:8080/"
        },
        "id": "mTHDQ3dITR1P",
        "outputId": "e9169e9f-c1b4-4d9c-d144-6125bd91d5ee"
      },
      "outputs": [
        {
          "data": {
            "text/plain": [
              "0.8204071370060241"
            ]
          },
          "execution_count": 83,
          "metadata": {},
          "output_type": "execute_result"
        }
      ],
      "source": [
        "## Calculando o R-squared\n",
        "r2_random_forest_regression = r2_score(Y_test, Y_pred)\n",
        "r2_random_forest_regression"
      ]
    },
    {
      "cell_type": "markdown",
      "metadata": {
        "id": "PPnE1LRvWKPR"
      },
      "source": [
        "# 5.0 Conclusão"
      ]
    },
    {
      "cell_type": "code",
      "execution_count": 87,
      "metadata": {
        "colab": {
          "base_uri": "https://localhost:8080/"
        },
        "id": "MaymBscqV8CC",
        "outputId": "8cef3575-469e-4629-d27f-11c64042b895"
      },
      "outputs": [
        {
          "name": "stdout",
          "output_type": "stream",
          "text": [
            "╒═════════╤══════════════════════════════════╤══════════════════════╕\n",
            "│   Ordem │ Modelo de Regressão              │   Valor do R-squared │\n",
            "╞═════════╪══════════════════════════════════╪══════════════════════╡\n",
            "│       1 │ Regressão Linear                 │             0.740153 │\n",
            "├─────────┼──────────────────────────────────┼──────────────────────┤\n",
            "│       2 │ Regressão vectorial              │             0.403702 │\n",
            "├─────────┼──────────────────────────────────┼──────────────────────┤\n",
            "│       3 │ Árvore de Decisão                │             0.651696 │\n",
            "├─────────┼──────────────────────────────────┼──────────────────────┤\n",
            "│       4 │ Regressão de Floresta Aleatórias │             0.820407 │\n",
            "╘═════════╧══════════════════════════════════╧══════════════════════╛\n"
          ]
        }
      ],
      "source": [
        "### Tabulação do desempenho de vários modelos de Regressão\n",
        "\n",
        "from tabulate import tabulate\n",
        "\n",
        "table = []\n",
        "table.append(['Ordem', 'Modelo de Regressão', 'Valor do R-squared'])\n",
        "table.append(['1', 'Regressão Linear', r2_rl])\n",
        "table.append(['2', 'Regressão vectorial', r2_vector_regr])\n",
        "table.append(['3', 'Árvore de Decisão', r2_dtree_regressor])\n",
        "table.append(['4', 'Regressão de Floresta Aleatórias ', r2_random_forest_regression])\n",
        "\n",
        "\n",
        "print(tabulate(table, headers='firstrow', tablefmt='fancy_grid'))"
      ]
    },
    {
      "cell_type": "markdown",
      "metadata": {
        "id": "hnzv8GFEawnE"
      },
      "source": [
        "Concluimos que ao treinarmos e aplicarmos os modelos de regressão, o modelo **Random Forest Regression** foi o que conseguiu ser mais preciso entre os outros modelos."
      ]
    }
  ],
  "metadata": {
    "colab": {
      "collapsed_sections": [
        "XemDdpkQ-DSf",
        "xJcfhlVM4rpo",
        "NDqDdF5P4wSt",
        "v78nnUfq4-JH",
        "sF7DHJJswDyz",
        "NmlES1LWn5gR",
        "1zL-8p5QSBRL",
        "WXoq0N0LWKtH",
        "dTanW8PYV2N7",
        "IHjugaN7hsGU",
        "zXTGm5Uyi2Ia",
        "OKSCZWhkl9j_",
        "osTuUbw7mV1j",
        "Xx8HA8ennIxT",
        "nXqfFYYJTDw4",
        "PPnE1LRvWKPR",
        "yJ4KuqGo87Lu",
        "mhu-oY2Vut02",
        "UpvGMoCV9bBK"
      ],
      "provenance": [],
      "toc_visible": true
    },
    "kernelspec": {
      "display_name": "Python 3",
      "name": "python3"
    },
    "language_info": {
      "name": "python"
    }
  },
  "nbformat": 4,
  "nbformat_minor": 0
}
